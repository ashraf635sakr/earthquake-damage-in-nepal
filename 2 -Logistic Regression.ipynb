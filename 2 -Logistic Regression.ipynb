{
 "cells": [
  {
   "cell_type": "markdown",
   "id": "3ca139e1",
   "metadata": {},
   "source": [
    "<font size=\"+3\"><strong>Predicting Damage with Logistic Regression</strong></font>"
   ]
  },
  {
   "cell_type": "code",
   "execution_count": 4,
   "id": "681bac08",
   "metadata": {},
   "outputs": [],
   "source": [
    "import sqlite3 as sql\n",
    "import matplotlib.pyplot as plt\n",
    "import numpy as np\n",
    "import pandas as pd\n",
    "import seaborn as sns\n",
    "from category_encoders import OneHotEncoder\n",
    "from sklearn.linear_model import LogisticRegression\n",
    "from sklearn.metrics import accuracy_score\n",
    "from sklearn.model_selection import train_test_split\n",
    "from sklearn.pipeline import Pipeline, make_pipeline\n",
    "from sklearn.utils.validation import check_is_fitted\n"
   ]
  },
  {
   "cell_type": "markdown",
   "id": "c1dc6b19",
   "metadata": {},
   "source": [
    "# Prepare Data"
   ]
  },
  {
   "cell_type": "markdown",
   "id": "1938f011",
   "metadata": {},
   "source": [
    "## Import "
   ]
  },
  {
   "cell_type": "code",
   "execution_count": 36,
   "id": "7cad8da1",
   "metadata": {},
   "outputs": [],
   "source": [
    "def wrangle(db_path):\n",
    "    # Connect to database\n",
    "    conn = sql.connect(db_path)\n",
    "\n",
    "    # Construct query\n",
    "    query = \"\"\"\n",
    "            SELECT s.* ,d.damage_grade\n",
    "            FROM building_structure as s \n",
    "            JOIN building_damage AS d\n",
    "            ON s.building_id = d.building_id\n",
    "            WHERE s.district_id=36\n",
    "            \"\"\"\n",
    "\n",
    "    # Read query results into DataFrame\n",
    "    df = pd.read_sql(query,conn,\"building_id\")\n",
    "    \n",
    "    # identify leaky columns\n",
    "    drop_cols = [col for col in df.columns if \"post_eq\" in col]\n",
    "    \n",
    "    # create binary target\n",
    "    df[\"damage_grade\"]= df[\"damage_grade\"].str[-1].astype(int)\n",
    "    df[\"severe_damage\"]=(df[\"damage_grade\"]>3).astype(int)\n",
    "    \n",
    "    # Drop unnecessary features \n",
    "    drop_cols.append(\"technical_solution_proposed\")\n",
    "    \n",
    "    # drop old target\n",
    "    drop_cols.append(\"damage_grade\")\n",
    "    \n",
    "    # drop multicollinearty columns\n",
    "    drop_cols.append(\"count_floors_pre_eq\")\n",
    "    \n",
    "    # drop haigh cardinality\n",
    "    drop_cols.extend([\"district_id\",\"vdcmun_id\",\"ward_id\"])\n",
    "    \n",
    "    # drop leaky columns \n",
    "    df.drop(columns=drop_cols , inplace=True)\n",
    "    \n",
    "    return df"
   ]
  },
  {
   "cell_type": "markdown",
   "id": "92e59bd8",
   "metadata": {},
   "source": [
    "**Task 4.2.1:** use the `wrangle` function above so that the it returns the results of `query` as a DataFrame. Be sure that the index column is set to `\"building_id\"`. Also, the path to the SQLite database is `\"data/nepal.db\"`."
   ]
  },
  {
   "cell_type": "code",
   "execution_count": 37,
   "id": "0d8a8263",
   "metadata": {},
   "outputs": [
    {
     "data": {
      "text/html": [
       "<div>\n",
       "<style scoped>\n",
       "    .dataframe tbody tr th:only-of-type {\n",
       "        vertical-align: middle;\n",
       "    }\n",
       "\n",
       "    .dataframe tbody tr th {\n",
       "        vertical-align: top;\n",
       "    }\n",
       "\n",
       "    .dataframe thead th {\n",
       "        text-align: right;\n",
       "    }\n",
       "</style>\n",
       "<table border=\"1\" class=\"dataframe\">\n",
       "  <thead>\n",
       "    <tr style=\"text-align: right;\">\n",
       "      <th></th>\n",
       "      <th>age_building</th>\n",
       "      <th>plinth_area_sq_ft</th>\n",
       "      <th>height_ft_pre_eq</th>\n",
       "      <th>land_surface_condition</th>\n",
       "      <th>foundation_type</th>\n",
       "      <th>roof_type</th>\n",
       "      <th>ground_floor_type</th>\n",
       "      <th>other_floor_type</th>\n",
       "      <th>position</th>\n",
       "      <th>plan_configuration</th>\n",
       "      <th>...</th>\n",
       "      <th>has_superstructure_stone_flag</th>\n",
       "      <th>has_superstructure_cement_mortar_stone</th>\n",
       "      <th>has_superstructure_mud_mortar_brick</th>\n",
       "      <th>has_superstructure_cement_mortar_brick</th>\n",
       "      <th>has_superstructure_timber</th>\n",
       "      <th>has_superstructure_bamboo</th>\n",
       "      <th>has_superstructure_rc_non_engineered</th>\n",
       "      <th>has_superstructure_rc_engineered</th>\n",
       "      <th>has_superstructure_other</th>\n",
       "      <th>severe_damage</th>\n",
       "    </tr>\n",
       "    <tr>\n",
       "      <th>building_id</th>\n",
       "      <th></th>\n",
       "      <th></th>\n",
       "      <th></th>\n",
       "      <th></th>\n",
       "      <th></th>\n",
       "      <th></th>\n",
       "      <th></th>\n",
       "      <th></th>\n",
       "      <th></th>\n",
       "      <th></th>\n",
       "      <th></th>\n",
       "      <th></th>\n",
       "      <th></th>\n",
       "      <th></th>\n",
       "      <th></th>\n",
       "      <th></th>\n",
       "      <th></th>\n",
       "      <th></th>\n",
       "      <th></th>\n",
       "      <th></th>\n",
       "      <th></th>\n",
       "    </tr>\n",
       "  </thead>\n",
       "  <tbody>\n",
       "    <tr>\n",
       "      <th>360101000011</th>\n",
       "      <td>40</td>\n",
       "      <td>336</td>\n",
       "      <td>6</td>\n",
       "      <td>Flat</td>\n",
       "      <td>Mud mortar-Stone/Brick</td>\n",
       "      <td>Bamboo/Timber-Light roof</td>\n",
       "      <td>Mud</td>\n",
       "      <td>Not applicable</td>\n",
       "      <td>Not attached</td>\n",
       "      <td>Rectangular</td>\n",
       "      <td>...</td>\n",
       "      <td>0</td>\n",
       "      <td>0</td>\n",
       "      <td>0</td>\n",
       "      <td>0</td>\n",
       "      <td>0</td>\n",
       "      <td>0</td>\n",
       "      <td>0</td>\n",
       "      <td>0</td>\n",
       "      <td>0</td>\n",
       "      <td>1</td>\n",
       "    </tr>\n",
       "    <tr>\n",
       "      <th>360101000021</th>\n",
       "      <td>12</td>\n",
       "      <td>420</td>\n",
       "      <td>13</td>\n",
       "      <td>Flat</td>\n",
       "      <td>Mud mortar-Stone/Brick</td>\n",
       "      <td>Bamboo/Timber-Light roof</td>\n",
       "      <td>Mud</td>\n",
       "      <td>TImber/Bamboo-Mud</td>\n",
       "      <td>Not attached</td>\n",
       "      <td>Rectangular</td>\n",
       "      <td>...</td>\n",
       "      <td>0</td>\n",
       "      <td>0</td>\n",
       "      <td>0</td>\n",
       "      <td>0</td>\n",
       "      <td>0</td>\n",
       "      <td>0</td>\n",
       "      <td>0</td>\n",
       "      <td>0</td>\n",
       "      <td>0</td>\n",
       "      <td>0</td>\n",
       "    </tr>\n",
       "    <tr>\n",
       "      <th>360101000031</th>\n",
       "      <td>20</td>\n",
       "      <td>560</td>\n",
       "      <td>18</td>\n",
       "      <td>Flat</td>\n",
       "      <td>Mud mortar-Stone/Brick</td>\n",
       "      <td>Bamboo/Timber-Light roof</td>\n",
       "      <td>Mud</td>\n",
       "      <td>TImber/Bamboo-Mud</td>\n",
       "      <td>Not attached</td>\n",
       "      <td>Rectangular</td>\n",
       "      <td>...</td>\n",
       "      <td>0</td>\n",
       "      <td>0</td>\n",
       "      <td>0</td>\n",
       "      <td>0</td>\n",
       "      <td>0</td>\n",
       "      <td>0</td>\n",
       "      <td>0</td>\n",
       "      <td>0</td>\n",
       "      <td>0</td>\n",
       "      <td>0</td>\n",
       "    </tr>\n",
       "    <tr>\n",
       "      <th>360101000041</th>\n",
       "      <td>15</td>\n",
       "      <td>390</td>\n",
       "      <td>12</td>\n",
       "      <td>Flat</td>\n",
       "      <td>Mud mortar-Stone/Brick</td>\n",
       "      <td>Bamboo/Timber-Light roof</td>\n",
       "      <td>Mud</td>\n",
       "      <td>TImber/Bamboo-Mud</td>\n",
       "      <td>Not attached</td>\n",
       "      <td>Rectangular</td>\n",
       "      <td>...</td>\n",
       "      <td>0</td>\n",
       "      <td>0</td>\n",
       "      <td>0</td>\n",
       "      <td>0</td>\n",
       "      <td>0</td>\n",
       "      <td>0</td>\n",
       "      <td>0</td>\n",
       "      <td>0</td>\n",
       "      <td>0</td>\n",
       "      <td>1</td>\n",
       "    </tr>\n",
       "    <tr>\n",
       "      <th>360101000051</th>\n",
       "      <td>15</td>\n",
       "      <td>290</td>\n",
       "      <td>13</td>\n",
       "      <td>Flat</td>\n",
       "      <td>Mud mortar-Stone/Brick</td>\n",
       "      <td>Bamboo/Timber-Light roof</td>\n",
       "      <td>Mud</td>\n",
       "      <td>TImber/Bamboo-Mud</td>\n",
       "      <td>Not attached</td>\n",
       "      <td>Square</td>\n",
       "      <td>...</td>\n",
       "      <td>0</td>\n",
       "      <td>0</td>\n",
       "      <td>0</td>\n",
       "      <td>0</td>\n",
       "      <td>0</td>\n",
       "      <td>0</td>\n",
       "      <td>0</td>\n",
       "      <td>0</td>\n",
       "      <td>0</td>\n",
       "      <td>1</td>\n",
       "    </tr>\n",
       "  </tbody>\n",
       "</table>\n",
       "<p>5 rows × 22 columns</p>\n",
       "</div>"
      ],
      "text/plain": [
       "              age_building  plinth_area_sq_ft  height_ft_pre_eq  \\\n",
       "building_id                                                       \n",
       "360101000011            40                336                 6   \n",
       "360101000021            12                420                13   \n",
       "360101000031            20                560                18   \n",
       "360101000041            15                390                12   \n",
       "360101000051            15                290                13   \n",
       "\n",
       "             land_surface_condition         foundation_type  \\\n",
       "building_id                                                   \n",
       "360101000011                   Flat  Mud mortar-Stone/Brick   \n",
       "360101000021                   Flat  Mud mortar-Stone/Brick   \n",
       "360101000031                   Flat  Mud mortar-Stone/Brick   \n",
       "360101000041                   Flat  Mud mortar-Stone/Brick   \n",
       "360101000051                   Flat  Mud mortar-Stone/Brick   \n",
       "\n",
       "                             roof_type ground_floor_type   other_floor_type  \\\n",
       "building_id                                                                   \n",
       "360101000011  Bamboo/Timber-Light roof               Mud     Not applicable   \n",
       "360101000021  Bamboo/Timber-Light roof               Mud  TImber/Bamboo-Mud   \n",
       "360101000031  Bamboo/Timber-Light roof               Mud  TImber/Bamboo-Mud   \n",
       "360101000041  Bamboo/Timber-Light roof               Mud  TImber/Bamboo-Mud   \n",
       "360101000051  Bamboo/Timber-Light roof               Mud  TImber/Bamboo-Mud   \n",
       "\n",
       "                  position plan_configuration  ...  \\\n",
       "building_id                                    ...   \n",
       "360101000011  Not attached        Rectangular  ...   \n",
       "360101000021  Not attached        Rectangular  ...   \n",
       "360101000031  Not attached        Rectangular  ...   \n",
       "360101000041  Not attached        Rectangular  ...   \n",
       "360101000051  Not attached             Square  ...   \n",
       "\n",
       "              has_superstructure_stone_flag  \\\n",
       "building_id                                   \n",
       "360101000011                              0   \n",
       "360101000021                              0   \n",
       "360101000031                              0   \n",
       "360101000041                              0   \n",
       "360101000051                              0   \n",
       "\n",
       "              has_superstructure_cement_mortar_stone  \\\n",
       "building_id                                            \n",
       "360101000011                                       0   \n",
       "360101000021                                       0   \n",
       "360101000031                                       0   \n",
       "360101000041                                       0   \n",
       "360101000051                                       0   \n",
       "\n",
       "              has_superstructure_mud_mortar_brick  \\\n",
       "building_id                                         \n",
       "360101000011                                    0   \n",
       "360101000021                                    0   \n",
       "360101000031                                    0   \n",
       "360101000041                                    0   \n",
       "360101000051                                    0   \n",
       "\n",
       "              has_superstructure_cement_mortar_brick  \\\n",
       "building_id                                            \n",
       "360101000011                                       0   \n",
       "360101000021                                       0   \n",
       "360101000031                                       0   \n",
       "360101000041                                       0   \n",
       "360101000051                                       0   \n",
       "\n",
       "              has_superstructure_timber  has_superstructure_bamboo  \\\n",
       "building_id                                                          \n",
       "360101000011                          0                          0   \n",
       "360101000021                          0                          0   \n",
       "360101000031                          0                          0   \n",
       "360101000041                          0                          0   \n",
       "360101000051                          0                          0   \n",
       "\n",
       "              has_superstructure_rc_non_engineered  \\\n",
       "building_id                                          \n",
       "360101000011                                     0   \n",
       "360101000021                                     0   \n",
       "360101000031                                     0   \n",
       "360101000041                                     0   \n",
       "360101000051                                     0   \n",
       "\n",
       "              has_superstructure_rc_engineered  has_superstructure_other  \\\n",
       "building_id                                                                \n",
       "360101000011                                 0                         0   \n",
       "360101000021                                 0                         0   \n",
       "360101000031                                 0                         0   \n",
       "360101000041                                 0                         0   \n",
       "360101000051                                 0                         0   \n",
       "\n",
       "              severe_damage  \n",
       "building_id                  \n",
       "360101000011              1  \n",
       "360101000021              0  \n",
       "360101000031              0  \n",
       "360101000041              1  \n",
       "360101000051              1  \n",
       "\n",
       "[5 rows x 22 columns]"
      ]
     },
     "execution_count": 37,
     "metadata": {},
     "output_type": "execute_result"
    }
   ],
   "source": [
    "df = wrangle(\"data/nepal.db\")\n",
    "df.head()"
   ]
  },
  {
   "cell_type": "markdown",
   "id": "ddd4d728",
   "metadata": {},
   "source": [
    "There seem to be several features in `df` with information about the condition of a property after the earthquake."
   ]
  },
  {
   "cell_type": "markdown",
   "id": "e82e3258",
   "metadata": {},
   "source": [
    "**Task 4.2.2:** Add to your wrangle function so that these features are dropped from the DataFrame. Don't forget to rerun all the cells above. \n"
   ]
  },
  {
   "cell_type": "code",
   "execution_count": 8,
   "id": "9a574d71",
   "metadata": {},
   "outputs": [
    {
     "data": {
      "text/plain": [
       "['count_floors_post_eq', 'height_ft_post_eq', 'condition_post_eq']"
      ]
     },
     "execution_count": 8,
     "metadata": {},
     "output_type": "execute_result"
    }
   ],
   "source": [
    "# drop_cols =[]\n",
    "# for col in df.columns:\n",
    "#     if \"post_eq\" in col:\n",
    "#         drop_cols.append(col)\n",
    "# drop_cols        \n",
    "# drop_cols = [col for col in df.columns if \"post_eq\" in col]\n",
    "# drop_cols"
   ]
  },
  {
   "cell_type": "code",
   "execution_count": 38,
   "id": "cb0409f9",
   "metadata": {},
   "outputs": [
    {
     "name": "stdout",
     "output_type": "stream",
     "text": [
      "<class 'pandas.core.frame.DataFrame'>\n",
      "Int64Index: 78074 entries, 360101000011 to 366709001281\n",
      "Data columns (total 22 columns):\n",
      " #   Column                                  Non-Null Count  Dtype \n",
      "---  ------                                  --------------  ----- \n",
      " 0   age_building                            78074 non-null  int64 \n",
      " 1   plinth_area_sq_ft                       78074 non-null  int64 \n",
      " 2   height_ft_pre_eq                        78074 non-null  int64 \n",
      " 3   land_surface_condition                  78074 non-null  object\n",
      " 4   foundation_type                         78074 non-null  object\n",
      " 5   roof_type                               78074 non-null  object\n",
      " 6   ground_floor_type                       78074 non-null  object\n",
      " 7   other_floor_type                        78074 non-null  object\n",
      " 8   position                                78074 non-null  object\n",
      " 9   plan_configuration                      78074 non-null  object\n",
      " 10  has_superstructure_adobe_mud            78074 non-null  int64 \n",
      " 11  has_superstructure_mud_mortar_stone     78074 non-null  int64 \n",
      " 12  has_superstructure_stone_flag           78074 non-null  int64 \n",
      " 13  has_superstructure_cement_mortar_stone  78074 non-null  int64 \n",
      " 14  has_superstructure_mud_mortar_brick     78074 non-null  int64 \n",
      " 15  has_superstructure_cement_mortar_brick  78074 non-null  int64 \n",
      " 16  has_superstructure_timber               78074 non-null  int64 \n",
      " 17  has_superstructure_bamboo               78074 non-null  int64 \n",
      " 18  has_superstructure_rc_non_engineered    78074 non-null  int64 \n",
      " 19  has_superstructure_rc_engineered        78074 non-null  int64 \n",
      " 20  has_superstructure_other                78074 non-null  int64 \n",
      " 21  severe_damage                           78074 non-null  int32 \n",
      "dtypes: int32(1), int64(14), object(7)\n",
      "memory usage: 13.4+ MB\n",
      "None\n"
     ]
    }
   ],
   "source": [
    "print(df.info())"
   ]
  },
  {
   "cell_type": "markdown",
   "id": "65e8673c",
   "metadata": {},
   "source": [
    "We want to build a **binary classification** model, but our current target `\"damage_grade\"` has more than two categories."
   ]
  },
  {
   "cell_type": "markdown",
   "id": "befe7638",
   "metadata": {},
   "source": [
    "**Task 4.2.3:** Add to your wrangle function so that it creates a new target column `\"severe_damage\"`. For buildings where the `\"damage_grade\"` is Grade 4 or above, `\"severe_damage\"` should be `1`. For all other buildings, `\"severe_damage\"` should be `0`. Don't forget to drop `\"damage_grade\"` to avoid leakage, and rerun all the cells above.\n"
   ]
  },
  {
   "cell_type": "code",
   "execution_count": 20,
   "id": "65939299",
   "metadata": {},
   "outputs": [],
   "source": [
    "# df[\"damage_grade\"]= df[\"damage_grade\"].str[-1].astype(int)\n",
    "# df[\"severe_damage\"]=(df[\"damage_grade\"]>3)\n",
    "# df[\"severe_damage\"]=(df[\"damage_grade\"]>3).astype(int)\n",
    "# df[\"severe_damage\"]"
   ]
  },
  {
   "cell_type": "markdown",
   "id": "7524425f",
   "metadata": {},
   "source": [
    "## Explore"
   ]
  },
  {
   "cell_type": "markdown",
   "id": "0569f0c6",
   "metadata": {},
   "source": [
    "Since our model will be a type of linear model, we need to make sure there's no issue with multicollinearity in our dataset."
   ]
  },
  {
   "cell_type": "markdown",
   "id": "b56faf1f",
   "metadata": {},
   "source": [
    "**Task 4.2.4:** Plot a correlation heatmap of the remaining numerical features in `df`. Since `\"severe_damage\"` will be your target, you don't need to include it in your heatmap. \n",
    "​"
   ]
  },
  {
   "cell_type": "code",
   "execution_count": 23,
   "id": "b2281c3b",
   "metadata": {},
   "outputs": [
    {
     "data": {
      "text/plain": [
       "0.009728806263020353"
      ]
     },
     "execution_count": 23,
     "metadata": {},
     "output_type": "execute_result"
    }
   ],
   "source": [
    "df[\"severe_damage\"].corr(df[\"count_floors_pre_eq\"])"
   ]
  },
  {
   "cell_type": "code",
   "execution_count": 24,
   "id": "aa114606",
   "metadata": {},
   "outputs": [
    {
     "data": {
      "text/plain": [
       "-0.03858480093179795"
      ]
     },
     "execution_count": 24,
     "metadata": {},
     "output_type": "execute_result"
    }
   ],
   "source": [
    "df[\"severe_damage\"].corr(df[\"height_ft_pre_eq\"])"
   ]
  },
  {
   "cell_type": "code",
   "execution_count": 39,
   "id": "cc522d8d",
   "metadata": {},
   "outputs": [
    {
     "data": {
      "text/plain": [
       "<AxesSubplot:>"
      ]
     },
     "execution_count": 39,
     "metadata": {},
     "output_type": "execute_result"
    },
    {
     "data": {
      "image/png": "[encoded data removed]",
      "text/plain": [
       "<Figure size 432x288 with 2 Axes>"
      ]
     },
     "metadata": {
      "needs_background": "light"
     },
     "output_type": "display_data"
    }
   ],
   "source": [
    "# Create correlation matrix\n",
    "correlation = df.select_dtypes(\"number\").drop(columns=\"severe_damage\").corr()\n",
    "# Plot heatmap of `correlation`\n",
    "sns.heatmap(correlation)"
   ]
  },
  {
   "cell_type": "markdown",
   "id": "37a3ae9e",
   "metadata": {},
   "source": [
    "**Task 4.2.5:** So we will change `wrangle` function so that it drops the `\"count_floors_pre_eq\"` column. "
   ]
  },
  {
   "cell_type": "markdown",
   "id": "71dec8f3",
   "metadata": {},
   "source": [
    "Before we build our model, let's see if we can identify any obvious differences between houses that were severely damaged in the earthquake (`\"severe_damage\"==1`) those that were not (`\"severe_damage\"==0`). Let's start with a numerical feature. "
   ]
  },
  {
   "cell_type": "markdown",
   "id": "ee6c10ea",
   "metadata": {},
   "source": [
    "**Task 4.2.6:** Use seaborn to create a boxplot that shows the distributions of the `\"height_ft_pre_eq\"` column for both groups in the `\"severe_damage\"` column. Remember to label your axes. \n"
   ]
  },
  {
   "cell_type": "code",
   "execution_count": 40,
   "id": "0bc876e6",
   "metadata": {},
   "outputs": [
    {
     "data": {
      "image/png": "[encoded data removed]",
      "text/plain": [
       "<Figure size 432x288 with 1 Axes>"
      ]
     },
     "metadata": {
      "needs_background": "light"
     },
     "output_type": "display_data"
    }
   ],
   "source": [
    "# Create boxplot\n",
    "sns.boxplot(x=\"severe_damage\",y=\"height_ft_pre_eq\",data=df)\n",
    "# Label axes\n",
    "plt.xlabel(\"severe_damage\")\n",
    "plt.ylabel(\"height_ft_pre_eq [ft]\")\n",
    "plt.title(\"distribution of building height by class\");"
   ]
  },
  {
   "cell_type": "markdown",
   "id": "e615022e",
   "metadata": {},
   "source": [
    "**Task 4.2.7:** Create a bar chart of the value counts for the `\"severe_damage\"` column. You want to calculate the relative frequencies of the classes, not the raw count, so be sure to set the `normalize` argument to `True`."
   ]
  },
  {
   "cell_type": "code",
   "execution_count": 41,
   "id": "1d95bbc5",
   "metadata": {},
   "outputs": [
    {
     "data": {
      "text/plain": [
       "<AxesSubplot:title={'center':'class balance'}, xlabel='class', ylabel='frequency'>"
      ]
     },
     "execution_count": 41,
     "metadata": {},
     "output_type": "execute_result"
    },
    {
     "data": {
      "image/png": "[encoded data removed]",
      "text/plain": [
       "<Figure size 432x288 with 1 Axes>"
      ]
     },
     "metadata": {
      "needs_background": "light"
     },
     "output_type": "display_data"
    }
   ],
   "source": [
    "# Plot value counts of `\"severe_damage\"`\n",
    "df[\"severe_damage\"].value_counts(normalize=True).plot(\n",
    "    kind=\"bar\",xlabel=\"class\",ylabel=\"frequency\",title=\"class balance\"\n",
    ")"
   ]
  },
  {
   "cell_type": "markdown",
   "id": "f86fd770",
   "metadata": {},
   "source": [
    "**Task 4.2.8:** Create two variables, `majority_class_prop` and `minority_class_prop`, to store the normalized value counts for the two classes in `df[\"severe_damage\"]`. \n"
   ]
  },
  {
   "cell_type": "code",
   "execution_count": 42,
   "id": "9c11ae1e",
   "metadata": {},
   "outputs": [
    {
     "name": "stdout",
     "output_type": "stream",
     "text": [
      "49661 28413\n"
     ]
    }
   ],
   "source": [
    "majority_class_prop, minority_class_prop = df[\"severe_damage\"].value_counts()\n",
    "print(majority_class_prop, minority_class_prop)"
   ]
  },
  {
   "cell_type": "code",
   "execution_count": 43,
   "id": "6414ce91",
   "metadata": {},
   "outputs": [
    {
     "name": "stdout",
     "output_type": "stream",
     "text": [
      "0.6360760304326665 0.3639239695673336\n"
     ]
    }
   ],
   "source": [
    "majority_class_prop, minority_class_prop = df[\"severe_damage\"].value_counts(normalize=True)\n",
    "print(majority_class_prop, minority_class_prop)"
   ]
  },
  {
   "cell_type": "markdown",
   "id": "9893a0d5",
   "metadata": {},
   "source": [
    "**Task 4.2.9:** Are buildings with certain foundation types more likely to suffer severe damage? Create a pivot table of `df` where the index is `\"foundation_type\"` and the values come from the `\"severe_damage\"` column, aggregated by the mean."
   ]
  },
  {
   "cell_type": "code",
   "execution_count": 44,
   "id": "24584e29",
   "metadata": {},
   "outputs": [
    {
     "data": {
      "text/html": [
       "<div>\n",
       "<style scoped>\n",
       "    .dataframe tbody tr th:only-of-type {\n",
       "        vertical-align: middle;\n",
       "    }\n",
       "\n",
       "    .dataframe tbody tr th {\n",
       "        vertical-align: top;\n",
       "    }\n",
       "\n",
       "    .dataframe thead th {\n",
       "        text-align: right;\n",
       "    }\n",
       "</style>\n",
       "<table border=\"1\" class=\"dataframe\">\n",
       "  <thead>\n",
       "    <tr style=\"text-align: right;\">\n",
       "      <th></th>\n",
       "      <th>severe_damage</th>\n",
       "    </tr>\n",
       "    <tr>\n",
       "      <th>foundation_type</th>\n",
       "      <th></th>\n",
       "    </tr>\n",
       "  </thead>\n",
       "  <tbody>\n",
       "    <tr>\n",
       "      <th>RC</th>\n",
       "      <td>0.027134</td>\n",
       "    </tr>\n",
       "    <tr>\n",
       "      <th>Bamboo/Timber</th>\n",
       "      <td>0.321429</td>\n",
       "    </tr>\n",
       "    <tr>\n",
       "      <th>Cement-Stone/Brick</th>\n",
       "      <td>0.410200</td>\n",
       "    </tr>\n",
       "    <tr>\n",
       "      <th>Mud mortar-Stone/Brick</th>\n",
       "      <td>0.684101</td>\n",
       "    </tr>\n",
       "    <tr>\n",
       "      <th>Other</th>\n",
       "      <td>0.801020</td>\n",
       "    </tr>\n",
       "  </tbody>\n",
       "</table>\n",
       "</div>"
      ],
      "text/plain": [
       "                        severe_damage\n",
       "foundation_type                      \n",
       "RC                           0.027134\n",
       "Bamboo/Timber                0.321429\n",
       "Cement-Stone/Brick           0.410200\n",
       "Mud mortar-Stone/Brick       0.684101\n",
       "Other                        0.801020"
      ]
     },
     "execution_count": 44,
     "metadata": {},
     "output_type": "execute_result"
    }
   ],
   "source": [
    "# Create pivot table\n",
    "foundation_pivot = pd.pivot_table(\n",
    "    df,index=\"foundation_type\",values=\"severe_damage\",aggfunc=np.mean\n",
    ").sort_values(by=\"severe_damage\")\n",
    "foundation_pivot"
   ]
  },
  {
   "cell_type": "markdown",
   "id": "ecae656d",
   "metadata": {},
   "source": [
    "**Task 4.2.10:** How do the proportions in `foundation_pivot` compare to the proportions for our majority and minority classes? Plot `foundation_pivot` as horizontal bar chart, adding vertical lines at the values for `majority_class_prop` and `minority_class_prop`.\n"
   ]
  },
  {
   "cell_type": "code",
   "execution_count": 45,
   "id": "8aabcc11",
   "metadata": {},
   "outputs": [
    {
     "data": {
      "text/plain": [
       "<matplotlib.legend.Legend at 0x1d3062e6dc0>"
      ]
     },
     "execution_count": 45,
     "metadata": {},
     "output_type": "execute_result"
    },
    {
     "data": {
      "image/png": "[encoded data removed]",
      "text/plain": [
       "<Figure size 432x288 with 1 Axes>"
      ]
     },
     "metadata": {
      "needs_background": "light"
     },
     "output_type": "display_data"
    }
   ],
   "source": [
    "# Plot bar chart of `foundation_pivot`\n",
    "foundation_pivot.plot(kind=\"barh\")\n",
    "plt.axhline(majority_class_prop, linestyle=\"--\",color=\"black\",label=\"majority_class\")\n",
    "plt.axhline(minority_class_prop, linestyle=\"--\",color=\"yellow\",label=\"minority_class\")\n",
    "plt.axvline(majority_class_prop, linestyle=\"--\",color=\"red\",label=\"majority_class\")\n",
    "plt.axvline(minority_class_prop, linestyle=\"--\",color=\"green\",label=\"minority_class\")\n",
    "plt.legend(loc=\"center right\")"
   ]
  },
  {
   "cell_type": "markdown",
   "id": "534b4f83",
   "metadata": {},
   "source": [
    "**Task 4.2.11:** Combine the [`select_dtypes`](https://pandas.pydata.org/docs/reference/api/pandas.DataFrame.select_dtypes.html) and [`nunique`](https://pandas.pydata.org/docs/reference/api/pandas.DataFrame.nunique.html) methods to see if there are any high- or low-cardinality categorical features in the dataset. \n"
   ]
  },
  {
   "cell_type": "code",
   "execution_count": 46,
   "id": "cb21c325",
   "metadata": {},
   "outputs": [
    {
     "data": {
      "text/plain": [
       "land_surface_condition     3\n",
       "foundation_type            5\n",
       "roof_type                  3\n",
       "ground_floor_type          5\n",
       "other_floor_type           4\n",
       "position                   4\n",
       "plan_configuration        10\n",
       "dtype: int64"
      ]
     },
     "execution_count": 46,
     "metadata": {},
     "output_type": "execute_result"
    }
   ],
   "source": [
    "# Check for high- and low-cardinality categorical features\n",
    "df.select_dtypes(\"object\").nunique()"
   ]
  },
  {
   "cell_type": "markdown",
   "id": "57428a62",
   "metadata": {},
   "source": [
    "## Split"
   ]
  },
  {
   "cell_type": "markdown",
   "id": "26a97aaa",
   "metadata": {},
   "source": [
    "**Task 4.2.12:** Create your feature matrix `X` and target vector `y`. Your target is `\"severe_damage\"`. \n"
   ]
  },
  {
   "cell_type": "code",
   "execution_count": 47,
   "id": "096e881a",
   "metadata": {},
   "outputs": [
    {
     "data": {
      "text/plain": [
       "building_id\n",
       "360101000011    1\n",
       "360101000021    0\n",
       "360101000031    0\n",
       "360101000041    1\n",
       "360101000051    1\n",
       "Name: severe_damage, dtype: int32"
      ]
     },
     "execution_count": 47,
     "metadata": {},
     "output_type": "execute_result"
    }
   ],
   "source": [
    "target = \"severe_damage\"\n",
    "X = df.drop(columns=target)\n",
    "y = df[target]\n",
    "y.head()"
   ]
  },
  {
   "cell_type": "code",
   "execution_count": 48,
   "id": "1768c206",
   "metadata": {},
   "outputs": [
    {
     "data": {
      "text/html": [
       "<div>\n",
       "<style scoped>\n",
       "    .dataframe tbody tr th:only-of-type {\n",
       "        vertical-align: middle;\n",
       "    }\n",
       "\n",
       "    .dataframe tbody tr th {\n",
       "        vertical-align: top;\n",
       "    }\n",
       "\n",
       "    .dataframe thead th {\n",
       "        text-align: right;\n",
       "    }\n",
       "</style>\n",
       "<table border=\"1\" class=\"dataframe\">\n",
       "  <thead>\n",
       "    <tr style=\"text-align: right;\">\n",
       "      <th></th>\n",
       "      <th>age_building</th>\n",
       "      <th>plinth_area_sq_ft</th>\n",
       "      <th>height_ft_pre_eq</th>\n",
       "      <th>land_surface_condition</th>\n",
       "      <th>foundation_type</th>\n",
       "      <th>roof_type</th>\n",
       "      <th>ground_floor_type</th>\n",
       "      <th>other_floor_type</th>\n",
       "      <th>position</th>\n",
       "      <th>plan_configuration</th>\n",
       "      <th>...</th>\n",
       "      <th>has_superstructure_mud_mortar_stone</th>\n",
       "      <th>has_superstructure_stone_flag</th>\n",
       "      <th>has_superstructure_cement_mortar_stone</th>\n",
       "      <th>has_superstructure_mud_mortar_brick</th>\n",
       "      <th>has_superstructure_cement_mortar_brick</th>\n",
       "      <th>has_superstructure_timber</th>\n",
       "      <th>has_superstructure_bamboo</th>\n",
       "      <th>has_superstructure_rc_non_engineered</th>\n",
       "      <th>has_superstructure_rc_engineered</th>\n",
       "      <th>has_superstructure_other</th>\n",
       "    </tr>\n",
       "    <tr>\n",
       "      <th>building_id</th>\n",
       "      <th></th>\n",
       "      <th></th>\n",
       "      <th></th>\n",
       "      <th></th>\n",
       "      <th></th>\n",
       "      <th></th>\n",
       "      <th></th>\n",
       "      <th></th>\n",
       "      <th></th>\n",
       "      <th></th>\n",
       "      <th></th>\n",
       "      <th></th>\n",
       "      <th></th>\n",
       "      <th></th>\n",
       "      <th></th>\n",
       "      <th></th>\n",
       "      <th></th>\n",
       "      <th></th>\n",
       "      <th></th>\n",
       "      <th></th>\n",
       "      <th></th>\n",
       "    </tr>\n",
       "  </thead>\n",
       "  <tbody>\n",
       "    <tr>\n",
       "      <th>360101000011</th>\n",
       "      <td>40</td>\n",
       "      <td>336</td>\n",
       "      <td>6</td>\n",
       "      <td>Flat</td>\n",
       "      <td>Mud mortar-Stone/Brick</td>\n",
       "      <td>Bamboo/Timber-Light roof</td>\n",
       "      <td>Mud</td>\n",
       "      <td>Not applicable</td>\n",
       "      <td>Not attached</td>\n",
       "      <td>Rectangular</td>\n",
       "      <td>...</td>\n",
       "      <td>1</td>\n",
       "      <td>0</td>\n",
       "      <td>0</td>\n",
       "      <td>0</td>\n",
       "      <td>0</td>\n",
       "      <td>0</td>\n",
       "      <td>0</td>\n",
       "      <td>0</td>\n",
       "      <td>0</td>\n",
       "      <td>0</td>\n",
       "    </tr>\n",
       "    <tr>\n",
       "      <th>360101000021</th>\n",
       "      <td>12</td>\n",
       "      <td>420</td>\n",
       "      <td>13</td>\n",
       "      <td>Flat</td>\n",
       "      <td>Mud mortar-Stone/Brick</td>\n",
       "      <td>Bamboo/Timber-Light roof</td>\n",
       "      <td>Mud</td>\n",
       "      <td>TImber/Bamboo-Mud</td>\n",
       "      <td>Not attached</td>\n",
       "      <td>Rectangular</td>\n",
       "      <td>...</td>\n",
       "      <td>1</td>\n",
       "      <td>0</td>\n",
       "      <td>0</td>\n",
       "      <td>0</td>\n",
       "      <td>0</td>\n",
       "      <td>0</td>\n",
       "      <td>0</td>\n",
       "      <td>0</td>\n",
       "      <td>0</td>\n",
       "      <td>0</td>\n",
       "    </tr>\n",
       "    <tr>\n",
       "      <th>360101000031</th>\n",
       "      <td>20</td>\n",
       "      <td>560</td>\n",
       "      <td>18</td>\n",
       "      <td>Flat</td>\n",
       "      <td>Mud mortar-Stone/Brick</td>\n",
       "      <td>Bamboo/Timber-Light roof</td>\n",
       "      <td>Mud</td>\n",
       "      <td>TImber/Bamboo-Mud</td>\n",
       "      <td>Not attached</td>\n",
       "      <td>Rectangular</td>\n",
       "      <td>...</td>\n",
       "      <td>1</td>\n",
       "      <td>0</td>\n",
       "      <td>0</td>\n",
       "      <td>0</td>\n",
       "      <td>0</td>\n",
       "      <td>0</td>\n",
       "      <td>0</td>\n",
       "      <td>0</td>\n",
       "      <td>0</td>\n",
       "      <td>0</td>\n",
       "    </tr>\n",
       "    <tr>\n",
       "      <th>360101000041</th>\n",
       "      <td>15</td>\n",
       "      <td>390</td>\n",
       "      <td>12</td>\n",
       "      <td>Flat</td>\n",
       "      <td>Mud mortar-Stone/Brick</td>\n",
       "      <td>Bamboo/Timber-Light roof</td>\n",
       "      <td>Mud</td>\n",
       "      <td>TImber/Bamboo-Mud</td>\n",
       "      <td>Not attached</td>\n",
       "      <td>Rectangular</td>\n",
       "      <td>...</td>\n",
       "      <td>1</td>\n",
       "      <td>0</td>\n",
       "      <td>0</td>\n",
       "      <td>0</td>\n",
       "      <td>0</td>\n",
       "      <td>0</td>\n",
       "      <td>0</td>\n",
       "      <td>0</td>\n",
       "      <td>0</td>\n",
       "      <td>0</td>\n",
       "    </tr>\n",
       "    <tr>\n",
       "      <th>360101000051</th>\n",
       "      <td>15</td>\n",
       "      <td>290</td>\n",
       "      <td>13</td>\n",
       "      <td>Flat</td>\n",
       "      <td>Mud mortar-Stone/Brick</td>\n",
       "      <td>Bamboo/Timber-Light roof</td>\n",
       "      <td>Mud</td>\n",
       "      <td>TImber/Bamboo-Mud</td>\n",
       "      <td>Not attached</td>\n",
       "      <td>Square</td>\n",
       "      <td>...</td>\n",
       "      <td>1</td>\n",
       "      <td>0</td>\n",
       "      <td>0</td>\n",
       "      <td>0</td>\n",
       "      <td>0</td>\n",
       "      <td>0</td>\n",
       "      <td>0</td>\n",
       "      <td>0</td>\n",
       "      <td>0</td>\n",
       "      <td>0</td>\n",
       "    </tr>\n",
       "  </tbody>\n",
       "</table>\n",
       "<p>5 rows × 21 columns</p>\n",
       "</div>"
      ],
      "text/plain": [
       "              age_building  plinth_area_sq_ft  height_ft_pre_eq  \\\n",
       "building_id                                                       \n",
       "360101000011            40                336                 6   \n",
       "360101000021            12                420                13   \n",
       "360101000031            20                560                18   \n",
       "360101000041            15                390                12   \n",
       "360101000051            15                290                13   \n",
       "\n",
       "             land_surface_condition         foundation_type  \\\n",
       "building_id                                                   \n",
       "360101000011                   Flat  Mud mortar-Stone/Brick   \n",
       "360101000021                   Flat  Mud mortar-Stone/Brick   \n",
       "360101000031                   Flat  Mud mortar-Stone/Brick   \n",
       "360101000041                   Flat  Mud mortar-Stone/Brick   \n",
       "360101000051                   Flat  Mud mortar-Stone/Brick   \n",
       "\n",
       "                             roof_type ground_floor_type   other_floor_type  \\\n",
       "building_id                                                                   \n",
       "360101000011  Bamboo/Timber-Light roof               Mud     Not applicable   \n",
       "360101000021  Bamboo/Timber-Light roof               Mud  TImber/Bamboo-Mud   \n",
       "360101000031  Bamboo/Timber-Light roof               Mud  TImber/Bamboo-Mud   \n",
       "360101000041  Bamboo/Timber-Light roof               Mud  TImber/Bamboo-Mud   \n",
       "360101000051  Bamboo/Timber-Light roof               Mud  TImber/Bamboo-Mud   \n",
       "\n",
       "                  position plan_configuration  ...  \\\n",
       "building_id                                    ...   \n",
       "360101000011  Not attached        Rectangular  ...   \n",
       "360101000021  Not attached        Rectangular  ...   \n",
       "360101000031  Not attached        Rectangular  ...   \n",
       "360101000041  Not attached        Rectangular  ...   \n",
       "360101000051  Not attached             Square  ...   \n",
       "\n",
       "              has_superstructure_mud_mortar_stone  \\\n",
       "building_id                                         \n",
       "360101000011                                    1   \n",
       "360101000021                                    1   \n",
       "360101000031                                    1   \n",
       "360101000041                                    1   \n",
       "360101000051                                    1   \n",
       "\n",
       "              has_superstructure_stone_flag  \\\n",
       "building_id                                   \n",
       "360101000011                              0   \n",
       "360101000021                              0   \n",
       "360101000031                              0   \n",
       "360101000041                              0   \n",
       "360101000051                              0   \n",
       "\n",
       "              has_superstructure_cement_mortar_stone  \\\n",
       "building_id                                            \n",
       "360101000011                                       0   \n",
       "360101000021                                       0   \n",
       "360101000031                                       0   \n",
       "360101000041                                       0   \n",
       "360101000051                                       0   \n",
       "\n",
       "              has_superstructure_mud_mortar_brick  \\\n",
       "building_id                                         \n",
       "360101000011                                    0   \n",
       "360101000021                                    0   \n",
       "360101000031                                    0   \n",
       "360101000041                                    0   \n",
       "360101000051                                    0   \n",
       "\n",
       "              has_superstructure_cement_mortar_brick  \\\n",
       "building_id                                            \n",
       "360101000011                                       0   \n",
       "360101000021                                       0   \n",
       "360101000031                                       0   \n",
       "360101000041                                       0   \n",
       "360101000051                                       0   \n",
       "\n",
       "              has_superstructure_timber  has_superstructure_bamboo  \\\n",
       "building_id                                                          \n",
       "360101000011                          0                          0   \n",
       "360101000021                          0                          0   \n",
       "360101000031                          0                          0   \n",
       "360101000041                          0                          0   \n",
       "360101000051                          0                          0   \n",
       "\n",
       "              has_superstructure_rc_non_engineered  \\\n",
       "building_id                                          \n",
       "360101000011                                     0   \n",
       "360101000021                                     0   \n",
       "360101000031                                     0   \n",
       "360101000041                                     0   \n",
       "360101000051                                     0   \n",
       "\n",
       "              has_superstructure_rc_engineered  has_superstructure_other  \n",
       "building_id                                                               \n",
       "360101000011                                 0                         0  \n",
       "360101000021                                 0                         0  \n",
       "360101000031                                 0                         0  \n",
       "360101000041                                 0                         0  \n",
       "360101000051                                 0                         0  \n",
       "\n",
       "[5 rows x 21 columns]"
      ]
     },
     "execution_count": 48,
     "metadata": {},
     "output_type": "execute_result"
    }
   ],
   "source": [
    "X.head()"
   ]
  },
  {
   "cell_type": "markdown",
   "id": "91592ab5",
   "metadata": {},
   "source": [
    "**Task 4.2.13:** Divide your data (`X` and `y`) into training and test sets using a randomized train-test split. Your test set should be 20% of your total data. And don't forget to set a `random_state` for reproducibility. \n"
   ]
  },
  {
   "cell_type": "code",
   "execution_count": 50,
   "id": "19d2cc21",
   "metadata": {},
   "outputs": [
    {
     "name": "stdout",
     "output_type": "stream",
     "text": [
      "X_train shape: (62459, 21)\n",
      "y_train shape: (62459,)\n",
      "X_test shape: (15615, 21)\n",
      "y_test shape: (15615,)\n"
     ]
    }
   ],
   "source": [
    "X_train, X_test, y_train, y_test = train_test_split(X,y , test_size=0.2 , random_state=42)\n",
    "\n",
    "print(\"X_train shape:\", X_train.shape)\n",
    "print(\"y_train shape:\", y_train.shape)\n",
    "print(\"X_test shape:\", X_test.shape)\n",
    "print(\"y_test shape:\", y_test.shape)"
   ]
  },
  {
   "cell_type": "markdown",
   "id": "244782b3",
   "metadata": {},
   "source": [
    "# Build Model"
   ]
  },
  {
   "cell_type": "markdown",
   "id": "2bf70280",
   "metadata": {},
   "source": [
    "## Baseline"
   ]
  },
  {
   "cell_type": "markdown",
   "id": "e4418e6f",
   "metadata": {},
   "source": [
    "**Task 4.2.14:** Calculate the baseline accuracy score for your model.\n"
   ]
  },
  {
   "cell_type": "code",
   "execution_count": 52,
   "id": "b0d18724",
   "metadata": {},
   "outputs": [
    {
     "name": "stdout",
     "output_type": "stream",
     "text": [
      "Baseline Accuracy: 0.64\n"
     ]
    }
   ],
   "source": [
    "acc_baseline = y_train.value_counts(normalize=True).max()\n",
    "print(\"Baseline Accuracy:\", round(acc_baseline, 2))"
   ]
  },
  {
   "cell_type": "markdown",
   "id": "d97d9d25",
   "metadata": {},
   "source": [
    "**Task 4.2.15:** Create a pipeline named `model` that contains a `OneHotEncoder` transformer and a `LogisticRegression` predictor. Be sure you set the `use_cat_names` argument for your transformer to `True`. Then fit it to the training data. \n"
   ]
  },
  {
   "cell_type": "code",
   "execution_count": 53,
   "id": "79cb4eb2",
   "metadata": {},
   "outputs": [
    {
     "data": {
      "text/plain": [
       "Pipeline(steps=[('onehotencoder',\n",
       "                 OneHotEncoder(cols=['land_surface_condition',\n",
       "                                     'foundation_type', 'roof_type',\n",
       "                                     'ground_floor_type', 'other_floor_type',\n",
       "                                     'position', 'plan_configuration'],\n",
       "                               use_cat_names=True)),\n",
       "                ('logisticregression', LogisticRegression(max_iter=1000))])"
      ]
     },
     "execution_count": 53,
     "metadata": {},
     "output_type": "execute_result"
    }
   ],
   "source": [
    "# Build model\n",
    "model = make_pipeline(\n",
    "    OneHotEncoder(use_cat_names=True),\n",
    "    LogisticRegression(max_iter=1000)\n",
    ")\n",
    "# Fit model to training data\n",
    "model.fit(X_train,y_train)"
   ]
  },
  {
   "cell_type": "markdown",
   "id": "d2e3e0fe",
   "metadata": {},
   "source": [
    "## Evaluate"
   ]
  },
  {
   "cell_type": "markdown",
   "id": "4721e7d8",
   "metadata": {},
   "source": [
    "**Task 4.2.16:** Calculate the training and test accuracy scores for your models. \n"
   ]
  },
  {
   "cell_type": "code",
   "execution_count": 54,
   "id": "a6f42eab",
   "metadata": {},
   "outputs": [
    {
     "name": "stdout",
     "output_type": "stream",
     "text": [
      "Training Accuracy: 0.72\n",
      "Test Accuracy: 0.72\n"
     ]
    }
   ],
   "source": [
    "acc_train = accuracy_score(y_train,model.predict(X_train))\n",
    "acc_test = model.score(X_test,y_test)\n",
    "\n",
    "print(\"Training Accuracy:\", round(acc_train, 2))\n",
    "print(\"Test Accuracy:\", round(acc_test, 2))"
   ]
  },
  {
   "cell_type": "markdown",
   "id": "eebcbd5f",
   "metadata": {},
   "source": [
    "# Communicate"
   ]
  },
  {
   "cell_type": "markdown",
   "id": "4baeb660",
   "metadata": {},
   "source": [
    "**Task 4.2.17:** Instead of using the `predict` method with your model, try `predict_proba` with your training data. How does the `predict_proba` output differ than that of `predict`? What does it represent?\n"
   ]
  },
  {
   "cell_type": "code",
   "execution_count": 55,
   "id": "656882ed",
   "metadata": {},
   "outputs": [
    {
     "name": "stdout",
     "output_type": "stream",
     "text": [
      "[[0.28146758 0.71853242]\n",
      " [0.80737975 0.19262025]\n",
      " [0.2701782  0.7298218 ]\n",
      " [0.21606179 0.78393821]\n",
      " [0.11544684 0.88455316]]\n"
     ]
    }
   ],
   "source": [
    "y_train_pred_proba = model.predict_proba(X_train)\n",
    "print(y_train_pred_proba[:5])"
   ]
  },
  {
   "cell_type": "markdown",
   "id": "8effb74d",
   "metadata": {},
   "source": [
    "**Task 4.2.18:** Extract the feature names and importances from your `model`.\n"
   ]
  },
  {
   "cell_type": "code",
   "execution_count": 57,
   "id": "ce4f2ae2",
   "metadata": {},
   "outputs": [],
   "source": [
    "features = model.named_steps[\"onehotencoder\"].get_feature_names()\n",
    "importances = model.named_steps[\"logisticregression\"].coef_[0]"
   ]
  },
  {
   "cell_type": "code",
   "execution_count": 64,
   "id": "cce4c2bb",
   "metadata": {},
   "outputs": [
    {
     "data": {
      "text/plain": [
       "['age_building',\n",
       " 'plinth_area_sq_ft',\n",
       " 'height_ft_pre_eq',\n",
       " 'land_surface_condition_Flat',\n",
       " 'land_surface_condition_Steep slope',\n",
       " 'land_surface_condition_Moderate slope',\n",
       " 'foundation_type_Mud mortar-Stone/Brick',\n",
       " 'foundation_type_Cement-Stone/Brick',\n",
       " 'foundation_type_Bamboo/Timber',\n",
       " 'foundation_type_RC',\n",
       " 'foundation_type_Other',\n",
       " 'roof_type_Bamboo/Timber-Heavy roof',\n",
       " 'roof_type_Bamboo/Timber-Light roof',\n",
       " 'roof_type_RCC/RB/RBC',\n",
       " 'ground_floor_type_Mud',\n",
       " 'ground_floor_type_Brick/Stone',\n",
       " 'ground_floor_type_Timber',\n",
       " 'ground_floor_type_RC',\n",
       " 'ground_floor_type_Other',\n",
       " 'other_floor_type_Not applicable',\n",
       " 'other_floor_type_TImber/Bamboo-Mud',\n",
       " 'other_floor_type_Timber-Planck',\n",
       " 'other_floor_type_RCC/RB/RBC',\n",
       " 'position_Not attached',\n",
       " 'position_Attached-1 side',\n",
       " 'position_Attached-2 side',\n",
       " 'position_Attached-3 side',\n",
       " 'plan_configuration_Rectangular',\n",
       " 'plan_configuration_L-shape',\n",
       " 'plan_configuration_Square',\n",
       " 'plan_configuration_Multi-projected',\n",
       " 'plan_configuration_T-shape',\n",
       " 'plan_configuration_U-shape',\n",
       " 'plan_configuration_Others',\n",
       " 'plan_configuration_Building with Central Courtyard',\n",
       " 'plan_configuration_H-shape',\n",
       " 'plan_configuration_E-shape',\n",
       " 'has_superstructure_adobe_mud',\n",
       " 'has_superstructure_mud_mortar_stone',\n",
       " 'has_superstructure_stone_flag',\n",
       " 'has_superstructure_cement_mortar_stone',\n",
       " 'has_superstructure_mud_mortar_brick',\n",
       " 'has_superstructure_cement_mortar_brick',\n",
       " 'has_superstructure_timber',\n",
       " 'has_superstructure_bamboo',\n",
       " 'has_superstructure_rc_non_engineered',\n",
       " 'has_superstructure_rc_engineered',\n",
       " 'has_superstructure_other']"
      ]
     },
     "execution_count": 64,
     "metadata": {},
     "output_type": "execute_result"
    }
   ],
   "source": [
    "features"
   ]
  },
  {
   "cell_type": "code",
   "execution_count": 65,
   "id": "a329022d",
   "metadata": {},
   "outputs": [
    {
     "data": {
      "text/plain": [
       "array([ 6.38244692e-04,  1.59015125e-04,  7.40084576e-03, -3.59229127e-01,\n",
       "        2.63310028e-01, -1.27196016e-01,  5.01322473e-01,  1.08100851e-01,\n",
       "       -4.39586066e-01, -9.89716342e-01,  5.96763969e-01,  3.55773000e-01,\n",
       "        2.16211925e-01, -7.95100039e-01, -1.22161220e-01,  9.96736827e-02,\n",
       "        4.04110271e-01, -6.24787135e-01,  2.00492868e-02, -6.41726248e-02,\n",
       "       -6.09149686e-02,  3.31155167e-01, -4.29182689e-01, -8.50400912e-02,\n",
       "        6.75921253e-03, -7.03205475e-02, -7.45136884e-02,  3.30570314e-01,\n",
       "       -2.87076962e-01,  1.60367392e-01, -3.16655375e-01,  3.89872918e-03,\n",
       "       -8.35978375e-02, -2.67310280e-02, -6.06044524e-03, -9.26051019e-03,\n",
       "        1.14306077e-02,  4.19861853e-02,  4.12530452e-01,  4.35013963e-01,\n",
       "       -3.24718834e-01, -5.91383838e-01, -1.29264228e+00, -2.97591052e-01,\n",
       "       -5.92803400e-01, -8.42765277e-01, -3.58181796e-01, -6.22066319e-01])"
      ]
     },
     "execution_count": 65,
     "metadata": {},
     "output_type": "execute_result"
    }
   ],
   "source": [
    "importances"
   ]
  },
  {
   "cell_type": "markdown",
   "id": "7317df10",
   "metadata": {},
   "source": [
    "**Task 4.2.19:** Create a pandas Series named `odds_ratios`, where the index is `features` and the values are your the exponential of the `importances`. How does `odds_ratios` for this model look different from the other linear models we made in projects 2 and 3?"
   ]
  },
  {
   "cell_type": "code",
   "execution_count": 66,
   "id": "5f587cf9",
   "metadata": {},
   "outputs": [
    {
     "data": {
      "text/plain": [
       "has_superstructure_cement_mortar_brick                0.274544\n",
       "foundation_type_RC                                    0.371682\n",
       "has_superstructure_rc_non_engineered                  0.430518\n",
       "roof_type_RCC/RB/RBC                                  0.451536\n",
       "ground_floor_type_RC                                  0.535375\n",
       "has_superstructure_other                              0.536834\n",
       "has_superstructure_bamboo                             0.552775\n",
       "has_superstructure_mud_mortar_brick                   0.553561\n",
       "foundation_type_Bamboo/Timber                         0.644303\n",
       "other_floor_type_RCC/RB/RBC                           0.651041\n",
       "land_surface_condition_Flat                           0.698214\n",
       "has_superstructure_rc_engineered                      0.698946\n",
       "has_superstructure_cement_mortar_stone                0.722731\n",
       "plan_configuration_Multi-projected                    0.728582\n",
       "has_superstructure_timber                             0.742605\n",
       "plan_configuration_L-shape                            0.750454\n",
       "land_surface_condition_Moderate slope                 0.880561\n",
       "ground_floor_type_Mud                                 0.885006\n",
       "position_Not attached                                 0.918475\n",
       "plan_configuration_U-shape                            0.919801\n",
       "position_Attached-3 side                              0.928195\n",
       "position_Attached-2 side                              0.932095\n",
       "other_floor_type_Not applicable                       0.937843\n",
       "other_floor_type_TImber/Bamboo-Mud                    0.940903\n",
       "plan_configuration_Others                             0.973623\n",
       "plan_configuration_H-shape                            0.990782\n",
       "plan_configuration_Building with Central Courtyard    0.993958\n",
       "plinth_area_sq_ft                                     1.000159\n",
       "age_building                                          1.000638\n",
       "plan_configuration_T-shape                            1.003906\n",
       "position_Attached-1 side                              1.006782\n",
       "height_ft_pre_eq                                      1.007428\n",
       "plan_configuration_E-shape                            1.011496\n",
       "ground_floor_type_Other                               1.020252\n",
       "has_superstructure_adobe_mud                          1.042880\n",
       "ground_floor_type_Brick/Stone                         1.104810\n",
       "foundation_type_Cement-Stone/Brick                    1.114160\n",
       "plan_configuration_Square                             1.173942\n",
       "roof_type_Bamboo/Timber-Light roof                    1.241365\n",
       "land_surface_condition_Steep slope                    1.301230\n",
       "plan_configuration_Rectangular                        1.391762\n",
       "other_floor_type_Timber-Planck                        1.392576\n",
       "roof_type_Bamboo/Timber-Heavy roof                    1.427284\n",
       "ground_floor_type_Timber                              1.497969\n",
       "has_superstructure_mud_mortar_stone                   1.510636\n",
       "has_superstructure_stone_flag                         1.544985\n",
       "foundation_type_Mud mortar-Stone/Brick                1.650903\n",
       "foundation_type_Other                                 1.816232\n",
       "dtype: float64"
      ]
     },
     "execution_count": 66,
     "metadata": {},
     "output_type": "execute_result"
    }
   ],
   "source": [
    "odds_ratios = pd.Series(np.exp(importances),index=features).sort_values()\n",
    "odds_ratios"
   ]
  },
  {
   "cell_type": "markdown",
   "id": "36dda4cc",
   "metadata": {},
   "source": [
    "**Task 4.2.20:** Create a horizontal bar chart with the five largest coefficients from `odds_ratios`. Be sure to label your x-axis `\"Odds Ratio\"`.\n"
   ]
  },
  {
   "cell_type": "code",
   "execution_count": 63,
   "id": "568ec4a0",
   "metadata": {},
   "outputs": [
    {
     "data": {
      "text/plain": [
       "Text(0.5, 0, 'Odds Ratio')"
      ]
     },
     "execution_count": 63,
     "metadata": {},
     "output_type": "execute_result"
    },
    {
     "data": {
      "image/png": "[encoded data removed]",
      "text/plain": [
       "<Figure size 432x288 with 1 Axes>"
      ]
     },
     "metadata": {
      "needs_background": "light"
     },
     "output_type": "display_data"
    }
   ],
   "source": [
    "# Horizontal bar chart, five largest coefficients\n",
    "odds_ratios.tail().plot(kind=\"barh\")\n",
    "plt.xlabel(\"Odds Ratio\")"
   ]
  },
  {
   "cell_type": "markdown",
   "id": "1c37ba86",
   "metadata": {},
   "source": [
    "**Task 4.2.21:** Create a horizontal bar chart with the five smallest coefficients from `odds_ratios`. Be sure to label your x-axis `\"Odds Ratio\"`.\n"
   ]
  },
  {
   "cell_type": "code",
   "execution_count": 67,
   "id": "d2d811f3",
   "metadata": {},
   "outputs": [
    {
     "data": {
      "text/plain": [
       "Text(0.5, 0, 'Odds Ratio')"
      ]
     },
     "execution_count": 67,
     "metadata": {},
     "output_type": "execute_result"
    },
    {
     "data": {
      "image/png": "[encoded data removed]",
      "text/plain": [
       "<Figure size 432x288 with 1 Axes>"
      ]
     },
     "metadata": {
      "needs_background": "light"
     },
     "output_type": "display_data"
    }
   ],
   "source": [
    "# Horizontal bar chart, five smallest coefficients\n",
    "odds_ratios.head().plot(kind=\"barh\")\n",
    "plt.xlabel(\"Odds Ratio\")"
   ]
  },
  {
   "cell_type": "code",
   "execution_count": null,
   "id": "51e7efcf",
   "metadata": {},
   "outputs": [],
   "source": []
  }
 ],
 "metadata": {
  "kernelspec": {
   "display_name": "Python 3 (ipykernel)",
   "language": "python",
   "name": "python3"
  },
  "language_info": {
   "codemirror_mode": {
    "name": "ipython",
    "version": 3
   },
   "file_extension": ".py",
   "mimetype": "text/x-python",
   "name": "python",
   "nbconvert_exporter": "python",
   "pygments_lexer": "ipython3",
   "version": "3.9.12"
  }
 },
 "nbformat": 4,
 "nbformat_minor": 5
}
