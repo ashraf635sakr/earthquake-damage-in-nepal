{
 "cells": [
  {
   "cell_type": "markdown",
   "id": "1f39b917",
   "metadata": {},
   "source": [
    "<font size=\"+3\"><strong> Earthquake Damage in Kavrepalanchok 🇳🇵</strong></font>"
   ]
  },
  {
   "cell_type": "markdown",
   "id": "bef0bb57",
   "metadata": {},
   "source": [
    "In this assignment, you'll build a classification model to predict building damage for the district of [Kavrepalanchok]"
   ]
  },
  {
   "cell_type": "code",
   "execution_count": 1,
   "id": "ddd2d0f2",
   "metadata": {},
   "outputs": [],
   "source": [
    "# Import libraries here\n",
    "import sqlite3 as sql\n",
    "import seaborn as sns\n",
    "import matplotlib.pyplot as plt\n",
    "import numpy as np\n",
    "import pandas as pd\n",
    "from category_encoders import OneHotEncoder\n",
    "from sklearn.linear_model import LogisticRegression\n",
    "from sklearn.metrics import accuracy_score\n",
    "from sklearn.model_selection import train_test_split\n",
    "from sklearn.pipeline import Pipeline, make_pipeline\n",
    "from sklearn.utils.validation import check_is_fitted\n",
    "from category_encoders import OrdinalEncoder\n",
    "from sklearn.tree import DecisionTreeClassifier, plot_tree"
   ]
  },
  {
   "cell_type": "markdown",
   "id": "3b33dfe9",
   "metadata": {},
   "source": [
    "# Prepare Data"
   ]
  },
  {
   "cell_type": "code",
   "execution_count": 2,
   "id": "d21de7da",
   "metadata": {},
   "outputs": [],
   "source": [
    "conn = sql.connect(\"data/nepal.db\")"
   ]
  },
  {
   "cell_type": "code",
   "execution_count": 3,
   "id": "6fb43b8c",
   "metadata": {},
   "outputs": [],
   "source": [
    "%load_ext sql"
   ]
  },
  {
   "cell_type": "code",
   "execution_count": 4,
   "id": "5e41182d",
   "metadata": {},
   "outputs": [],
   "source": [
    "%sql sqlite:///data/nepal.db"
   ]
  },
  {
   "cell_type": "markdown",
   "id": "52b00155",
   "metadata": {},
   "source": [
    "**Task 4.5.1:** What districts are represented in the `id_map` table? Determine the unique values in the **`district_id`** column."
   ]
  },
  {
   "cell_type": "code",
   "execution_count": 5,
   "id": "c3f97d53",
   "metadata": {},
   "outputs": [
    {
     "name": "stdout",
     "output_type": "stream",
     "text": [
      "displaylimit: Value None will be treated as 0 (no limit)\n",
      "*  sqlite:///data/nepal.db\n",
      "Done.\n"
     ]
    },
    {
     "data": {
      "text/html": [
       "<table>\n",
       "    <thead>\n",
       "        <tr>\n",
       "            <th>district_id</th>\n",
       "        </tr>\n",
       "    </thead>\n",
       "    <tbody>\n",
       "        <tr>\n",
       "            <td>12</td>\n",
       "        </tr>\n",
       "        <tr>\n",
       "            <td>20</td>\n",
       "        </tr>\n",
       "        <tr>\n",
       "            <td>21</td>\n",
       "        </tr>\n",
       "        <tr>\n",
       "            <td>22</td>\n",
       "        </tr>\n",
       "        <tr>\n",
       "            <td>23</td>\n",
       "        </tr>\n",
       "        <tr>\n",
       "            <td>24</td>\n",
       "        </tr>\n",
       "        <tr>\n",
       "            <td>28</td>\n",
       "        </tr>\n",
       "        <tr>\n",
       "            <td>29</td>\n",
       "        </tr>\n",
       "        <tr>\n",
       "            <td>30</td>\n",
       "        </tr>\n",
       "        <tr>\n",
       "            <td>31</td>\n",
       "        </tr>\n",
       "        <tr>\n",
       "            <td>36</td>\n",
       "        </tr>\n",
       "    </tbody>\n",
       "</table>"
      ],
      "text/plain": [
       "+-------------+\n",
       "| district_id |\n",
       "+-------------+\n",
       "|      12     |\n",
       "|      20     |\n",
       "|      21     |\n",
       "|      22     |\n",
       "|      23     |\n",
       "|      24     |\n",
       "|      28     |\n",
       "|      29     |\n",
       "|      30     |\n",
       "|      31     |\n",
       "|      36     |\n",
       "+-------------+"
      ]
     },
     "execution_count": 5,
     "metadata": {},
     "output_type": "execute_result"
    }
   ],
   "source": [
    "%config SqlMagic.displaylimit = None\n",
    "%sql SELECT distinct(district_id) FROM id_map"
   ]
  },
  {
   "cell_type": "code",
   "execution_count": 6,
   "id": "04d7784c",
   "metadata": {},
   "outputs": [
    {
     "name": "stdout",
     "output_type": "stream",
     "text": [
      "*  sqlite:///data/nepal.db\n",
      "Done.\n"
     ]
    },
    {
     "data": {
      "text/html": [
       "<table>\n",
       "    <thead>\n",
       "        <tr>\n",
       "            <th>ward_id</th>\n",
       "            <th>vdcmun_id</th>\n",
       "            <th>vdcmun_name</th>\n",
       "            <th>district_id</th>\n",
       "            <th>district_name</th>\n",
       "        </tr>\n",
       "    </thead>\n",
       "    <tbody>\n",
       "        <tr>\n",
       "            <td>120101</td>\n",
       "            <td>1201</td>\n",
       "            <td>Champadevi Rural Municipality</td>\n",
       "            <td>12</td>\n",
       "            <td>Okhaldhunga</td>\n",
       "        </tr>\n",
       "        <tr>\n",
       "            <td>120102</td>\n",
       "            <td>1201</td>\n",
       "            <td>Champadevi Rural Municipality</td>\n",
       "            <td>12</td>\n",
       "            <td>Okhaldhunga</td>\n",
       "        </tr>\n",
       "        <tr>\n",
       "            <td>120103</td>\n",
       "            <td>1201</td>\n",
       "            <td>Champadevi Rural Municipality</td>\n",
       "            <td>12</td>\n",
       "            <td>Okhaldhunga</td>\n",
       "        </tr>\n",
       "        <tr>\n",
       "            <td>120104</td>\n",
       "            <td>1201</td>\n",
       "            <td>Champadevi Rural Municipality</td>\n",
       "            <td>12</td>\n",
       "            <td>Okhaldhunga</td>\n",
       "        </tr>\n",
       "        <tr>\n",
       "            <td>120105</td>\n",
       "            <td>1201</td>\n",
       "            <td>Champadevi Rural Municipality</td>\n",
       "            <td>12</td>\n",
       "            <td>Okhaldhunga</td>\n",
       "        </tr>\n",
       "    </tbody>\n",
       "</table>"
      ],
      "text/plain": [
       "+---------+-----------+-------------------------------+-------------+---------------+\n",
       "| ward_id | vdcmun_id |          vdcmun_name          | district_id | district_name |\n",
       "+---------+-----------+-------------------------------+-------------+---------------+\n",
       "|  120101 |    1201   | Champadevi Rural Municipality |      12     |  Okhaldhunga  |\n",
       "|  120102 |    1201   | Champadevi Rural Municipality |      12     |  Okhaldhunga  |\n",
       "|  120103 |    1201   | Champadevi Rural Municipality |      12     |  Okhaldhunga  |\n",
       "|  120104 |    1201   | Champadevi Rural Municipality |      12     |  Okhaldhunga  |\n",
       "|  120105 |    1201   | Champadevi Rural Municipality |      12     |  Okhaldhunga  |\n",
       "+---------+-----------+-------------------------------+-------------+---------------+"
      ]
     },
     "execution_count": 6,
     "metadata": {},
     "output_type": "execute_result"
    }
   ],
   "source": [
    "%%sql\n",
    "SELECT *\n",
    "FROM id_map\n",
    "LIMIT 5"
   ]
  },
  {
   "cell_type": "code",
   "execution_count": 7,
   "id": "5e93c1d0",
   "metadata": {},
   "outputs": [
    {
     "name": "stdout",
     "output_type": "stream",
     "text": [
      "*  sqlite:///data/nepal.db\n",
      "Done.\n"
     ]
    },
    {
     "data": {
      "text/html": [
       "<table>\n",
       "    <thead>\n",
       "        <tr>\n",
       "            <th>ward_id</th>\n",
       "            <th>vdcmun_id</th>\n",
       "            <th>vdcmun_name</th>\n",
       "            <th>district_id</th>\n",
       "            <th>district_name</th>\n",
       "        </tr>\n",
       "    </thead>\n",
       "    <tbody>\n",
       "        <tr>\n",
       "            <td>240101</td>\n",
       "            <td>2401</td>\n",
       "            <td>Banepa Municipality</td>\n",
       "            <td>24</td>\n",
       "            <td>Kavrepalanchok</td>\n",
       "        </tr>\n",
       "        <tr>\n",
       "            <td>240102</td>\n",
       "            <td>2401</td>\n",
       "            <td>Banepa Municipality</td>\n",
       "            <td>24</td>\n",
       "            <td>Kavrepalanchok</td>\n",
       "        </tr>\n",
       "        <tr>\n",
       "            <td>240103</td>\n",
       "            <td>2401</td>\n",
       "            <td>Banepa Municipality</td>\n",
       "            <td>24</td>\n",
       "            <td>Kavrepalanchok</td>\n",
       "        </tr>\n",
       "        <tr>\n",
       "            <td>240104</td>\n",
       "            <td>2401</td>\n",
       "            <td>Banepa Municipality</td>\n",
       "            <td>24</td>\n",
       "            <td>Kavrepalanchok</td>\n",
       "        </tr>\n",
       "        <tr>\n",
       "            <td>240105</td>\n",
       "            <td>2401</td>\n",
       "            <td>Banepa Municipality</td>\n",
       "            <td>24</td>\n",
       "            <td>Kavrepalanchok</td>\n",
       "        </tr>\n",
       "    </tbody>\n",
       "</table>"
      ],
      "text/plain": [
       "+---------+-----------+---------------------+-------------+----------------+\n",
       "| ward_id | vdcmun_id |     vdcmun_name     | district_id | district_name  |\n",
       "+---------+-----------+---------------------+-------------+----------------+\n",
       "|  240101 |    2401   | Banepa Municipality |      24     | Kavrepalanchok |\n",
       "|  240102 |    2401   | Banepa Municipality |      24     | Kavrepalanchok |\n",
       "|  240103 |    2401   | Banepa Municipality |      24     | Kavrepalanchok |\n",
       "|  240104 |    2401   | Banepa Municipality |      24     | Kavrepalanchok |\n",
       "|  240105 |    2401   | Banepa Municipality |      24     | Kavrepalanchok |\n",
       "+---------+-----------+---------------------+-------------+----------------+"
      ]
     },
     "execution_count": 7,
     "metadata": {},
     "output_type": "execute_result"
    }
   ],
   "source": [
    "%%sql\n",
    "SELECT *\n",
    "FROM id_map\n",
    "WHERE district_name = \"Kavrepalanchok\"\n",
    "LIMIT 5"
   ]
  },
  {
   "cell_type": "markdown",
   "id": "29320435",
   "metadata": {},
   "source": [
    "**Task 4.5.4:** Join all the columns from  `building_structure`, and the **`damage_grade`** column from `building_damage`, limiting. and limit your results to the first five rows of the new table."
   ]
  },
  {
   "cell_type": "code",
   "execution_count": 8,
   "id": "a6efee33",
   "metadata": {},
   "outputs": [
    {
     "name": "stdout",
     "output_type": "stream",
     "text": [
      "*  sqlite:///data/nepal.db\n",
      "Done.\n"
     ]
    },
    {
     "data": {
      "text/html": [
       "<table>\n",
       "    <thead>\n",
       "        <tr>\n",
       "            <th>building_id</th>\n",
       "            <th>district_id</th>\n",
       "            <th>vdcmun_id</th>\n",
       "            <th>ward_id</th>\n",
       "            <th>count_floors_pre_eq</th>\n",
       "            <th>count_floors_post_eq</th>\n",
       "            <th>age_building</th>\n",
       "            <th>plinth_area_sq_ft</th>\n",
       "            <th>height_ft_pre_eq</th>\n",
       "            <th>height_ft_post_eq</th>\n",
       "            <th>land_surface_condition</th>\n",
       "            <th>foundation_type</th>\n",
       "            <th>roof_type</th>\n",
       "            <th>ground_floor_type</th>\n",
       "            <th>other_floor_type</th>\n",
       "            <th>position</th>\n",
       "            <th>plan_configuration</th>\n",
       "            <th>has_superstructure_adobe_mud</th>\n",
       "            <th>has_superstructure_mud_mortar_stone</th>\n",
       "            <th>has_superstructure_stone_flag</th>\n",
       "            <th>has_superstructure_cement_mortar_stone</th>\n",
       "            <th>has_superstructure_mud_mortar_brick</th>\n",
       "            <th>has_superstructure_cement_mortar_brick</th>\n",
       "            <th>has_superstructure_timber</th>\n",
       "            <th>has_superstructure_bamboo</th>\n",
       "            <th>has_superstructure_rc_non_engineered</th>\n",
       "            <th>has_superstructure_rc_engineered</th>\n",
       "            <th>has_superstructure_other</th>\n",
       "            <th>condition_post_eq</th>\n",
       "            <th>technical_solution_proposed</th>\n",
       "            <th>damage_grade</th>\n",
       "        </tr>\n",
       "    </thead>\n",
       "    <tbody>\n",
       "        <tr>\n",
       "            <td>240101000011</td>\n",
       "            <td>24</td>\n",
       "            <td>2411</td>\n",
       "            <td>241101</td>\n",
       "            <td>1</td>\n",
       "            <td>1</td>\n",
       "            <td>40</td>\n",
       "            <td>324</td>\n",
       "            <td>12</td>\n",
       "            <td>12</td>\n",
       "            <td>Flat</td>\n",
       "            <td>Mud mortar-Stone/Brick</td>\n",
       "            <td>Bamboo/Timber-Light roof</td>\n",
       "            <td>Mud</td>\n",
       "            <td>Not applicable</td>\n",
       "            <td>Not attached</td>\n",
       "            <td>Rectangular</td>\n",
       "            <td>0</td>\n",
       "            <td>1</td>\n",
       "            <td>0</td>\n",
       "            <td>0</td>\n",
       "            <td>0</td>\n",
       "            <td>0</td>\n",
       "            <td>0</td>\n",
       "            <td>0</td>\n",
       "            <td>0</td>\n",
       "            <td>0</td>\n",
       "            <td>0</td>\n",
       "            <td>Damaged-Not used</td>\n",
       "            <td>Reconstruction</td>\n",
       "            <td>Grade 3</td>\n",
       "        </tr>\n",
       "        <tr>\n",
       "            <td>240101000021</td>\n",
       "            <td>24</td>\n",
       "            <td>2411</td>\n",
       "            <td>241101</td>\n",
       "            <td>2</td>\n",
       "            <td>0</td>\n",
       "            <td>30</td>\n",
       "            <td>382</td>\n",
       "            <td>20</td>\n",
       "            <td>0</td>\n",
       "            <td>Flat</td>\n",
       "            <td>Mud mortar-Stone/Brick</td>\n",
       "            <td>Bamboo/Timber-Light roof</td>\n",
       "            <td>Mud</td>\n",
       "            <td>TImber/Bamboo-Mud</td>\n",
       "            <td>Attached-1 side</td>\n",
       "            <td>Rectangular</td>\n",
       "            <td>0</td>\n",
       "            <td>1</td>\n",
       "            <td>0</td>\n",
       "            <td>0</td>\n",
       "            <td>0</td>\n",
       "            <td>0</td>\n",
       "            <td>0</td>\n",
       "            <td>0</td>\n",
       "            <td>0</td>\n",
       "            <td>0</td>\n",
       "            <td>0</td>\n",
       "            <td>Damaged-Rubble unclear</td>\n",
       "            <td>Reconstruction</td>\n",
       "            <td>Grade 5</td>\n",
       "        </tr>\n",
       "        <tr>\n",
       "            <td>240101000031</td>\n",
       "            <td>24</td>\n",
       "            <td>2411</td>\n",
       "            <td>241101</td>\n",
       "            <td>1</td>\n",
       "            <td>0</td>\n",
       "            <td>13</td>\n",
       "            <td>405</td>\n",
       "            <td>10</td>\n",
       "            <td>0</td>\n",
       "            <td>Flat</td>\n",
       "            <td>Mud mortar-Stone/Brick</td>\n",
       "            <td>Bamboo/Timber-Light roof</td>\n",
       "            <td>Mud</td>\n",
       "            <td>Not applicable</td>\n",
       "            <td>Not attached</td>\n",
       "            <td>Rectangular</td>\n",
       "            <td>0</td>\n",
       "            <td>1</td>\n",
       "            <td>0</td>\n",
       "            <td>0</td>\n",
       "            <td>0</td>\n",
       "            <td>0</td>\n",
       "            <td>0</td>\n",
       "            <td>0</td>\n",
       "            <td>0</td>\n",
       "            <td>0</td>\n",
       "            <td>0</td>\n",
       "            <td>Damaged-Rubble unclear</td>\n",
       "            <td>Reconstruction</td>\n",
       "            <td>Grade 5</td>\n",
       "        </tr>\n",
       "        <tr>\n",
       "            <td>240101000041</td>\n",
       "            <td>24</td>\n",
       "            <td>2411</td>\n",
       "            <td>241101</td>\n",
       "            <td>2</td>\n",
       "            <td>2</td>\n",
       "            <td>25</td>\n",
       "            <td>328</td>\n",
       "            <td>18</td>\n",
       "            <td>18</td>\n",
       "            <td>Flat</td>\n",
       "            <td>Mud mortar-Stone/Brick</td>\n",
       "            <td>Bamboo/Timber-Heavy roof</td>\n",
       "            <td>Mud</td>\n",
       "            <td>Timber-Planck</td>\n",
       "            <td>Not attached</td>\n",
       "            <td>Rectangular</td>\n",
       "            <td>0</td>\n",
       "            <td>1</td>\n",
       "            <td>0</td>\n",
       "            <td>0</td>\n",
       "            <td>0</td>\n",
       "            <td>0</td>\n",
       "            <td>0</td>\n",
       "            <td>0</td>\n",
       "            <td>0</td>\n",
       "            <td>0</td>\n",
       "            <td>0</td>\n",
       "            <td>Damaged-Not used</td>\n",
       "            <td>Reconstruction</td>\n",
       "            <td>Grade 4</td>\n",
       "        </tr>\n",
       "        <tr>\n",
       "            <td>240101000051</td>\n",
       "            <td>24</td>\n",
       "            <td>2411</td>\n",
       "            <td>241101</td>\n",
       "            <td>2</td>\n",
       "            <td>1</td>\n",
       "            <td>15</td>\n",
       "            <td>405</td>\n",
       "            <td>20</td>\n",
       "            <td>7</td>\n",
       "            <td>Flat</td>\n",
       "            <td>Mud mortar-Stone/Brick</td>\n",
       "            <td>Bamboo/Timber-Light roof</td>\n",
       "            <td>Mud</td>\n",
       "            <td>TImber/Bamboo-Mud</td>\n",
       "            <td>Not attached</td>\n",
       "            <td>Rectangular</td>\n",
       "            <td>0</td>\n",
       "            <td>1</td>\n",
       "            <td>0</td>\n",
       "            <td>0</td>\n",
       "            <td>0</td>\n",
       "            <td>0</td>\n",
       "            <td>0</td>\n",
       "            <td>0</td>\n",
       "            <td>0</td>\n",
       "            <td>0</td>\n",
       "            <td>0</td>\n",
       "            <td>Damaged-Not used</td>\n",
       "            <td>Reconstruction</td>\n",
       "            <td>Grade 4</td>\n",
       "        </tr>\n",
       "    </tbody>\n",
       "</table>"
      ],
      "text/plain": [
       "+--------------+-------------+-----------+---------+---------------------+----------------------+--------------+-------------------+------------------+-------------------+------------------------+------------------------+--------------------------+-------------------+-------------------+-----------------+--------------------+------------------------------+-------------------------------------+-------------------------------+----------------------------------------+-------------------------------------+----------------------------------------+---------------------------+---------------------------+--------------------------------------+----------------------------------+--------------------------+------------------------+-----------------------------+--------------+\n",
       "| building_id  | district_id | vdcmun_id | ward_id | count_floors_pre_eq | count_floors_post_eq | age_building | plinth_area_sq_ft | height_ft_pre_eq | height_ft_post_eq | land_surface_condition |    foundation_type     |        roof_type         | ground_floor_type |  other_floor_type |     position    | plan_configuration | has_superstructure_adobe_mud | has_superstructure_mud_mortar_stone | has_superstructure_stone_flag | has_superstructure_cement_mortar_stone | has_superstructure_mud_mortar_brick | has_superstructure_cement_mortar_brick | has_superstructure_timber | has_superstructure_bamboo | has_superstructure_rc_non_engineered | has_superstructure_rc_engineered | has_superstructure_other |   condition_post_eq    | technical_solution_proposed | damage_grade |\n",
       "+--------------+-------------+-----------+---------+---------------------+----------------------+--------------+-------------------+------------------+-------------------+------------------------+------------------------+--------------------------+-------------------+-------------------+-----------------+--------------------+------------------------------+-------------------------------------+-------------------------------+----------------------------------------+-------------------------------------+----------------------------------------+---------------------------+---------------------------+--------------------------------------+----------------------------------+--------------------------+------------------------+-----------------------------+--------------+\n",
       "| 240101000011 |      24     |    2411   |  241101 |          1          |          1           |      40      |        324        |        12        |         12        |          Flat          | Mud mortar-Stone/Brick | Bamboo/Timber-Light roof |        Mud        |   Not applicable  |   Not attached  |    Rectangular     |              0               |                  1                  |               0               |                   0                    |                  0                  |                   0                    |             0             |             0             |                  0                   |                0                 |            0             |    Damaged-Not used    |        Reconstruction       |   Grade 3    |\n",
       "| 240101000021 |      24     |    2411   |  241101 |          2          |          0           |      30      |        382        |        20        |         0         |          Flat          | Mud mortar-Stone/Brick | Bamboo/Timber-Light roof |        Mud        | TImber/Bamboo-Mud | Attached-1 side |    Rectangular     |              0               |                  1                  |               0               |                   0                    |                  0                  |                   0                    |             0             |             0             |                  0                   |                0                 |            0             | Damaged-Rubble unclear |        Reconstruction       |   Grade 5    |\n",
       "| 240101000031 |      24     |    2411   |  241101 |          1          |          0           |      13      |        405        |        10        |         0         |          Flat          | Mud mortar-Stone/Brick | Bamboo/Timber-Light roof |        Mud        |   Not applicable  |   Not attached  |    Rectangular     |              0               |                  1                  |               0               |                   0                    |                  0                  |                   0                    |             0             |             0             |                  0                   |                0                 |            0             | Damaged-Rubble unclear |        Reconstruction       |   Grade 5    |\n",
       "| 240101000041 |      24     |    2411   |  241101 |          2          |          2           |      25      |        328        |        18        |         18        |          Flat          | Mud mortar-Stone/Brick | Bamboo/Timber-Heavy roof |        Mud        |   Timber-Planck   |   Not attached  |    Rectangular     |              0               |                  1                  |               0               |                   0                    |                  0                  |                   0                    |             0             |             0             |                  0                   |                0                 |            0             |    Damaged-Not used    |        Reconstruction       |   Grade 4    |\n",
       "| 240101000051 |      24     |    2411   |  241101 |          2          |          1           |      15      |        405        |        20        |         7         |          Flat          | Mud mortar-Stone/Brick | Bamboo/Timber-Light roof |        Mud        | TImber/Bamboo-Mud |   Not attached  |    Rectangular     |              0               |                  1                  |               0               |                   0                    |                  0                  |                   0                    |             0             |             0             |                  0                   |                0                 |            0             |    Damaged-Not used    |        Reconstruction       |   Grade 4    |\n",
       "+--------------+-------------+-----------+---------+---------------------+----------------------+--------------+-------------------+------------------+-------------------+------------------------+------------------------+--------------------------+-------------------+-------------------+-----------------+--------------------+------------------------------+-------------------------------------+-------------------------------+----------------------------------------+-------------------------------------+----------------------------------------+---------------------------+---------------------------+--------------------------------------+----------------------------------+--------------------------+------------------------+-----------------------------+--------------+"
      ]
     },
     "execution_count": 8,
     "metadata": {},
     "output_type": "execute_result"
    }
   ],
   "source": [
    "%%sql\n",
    "SELECT s.* ,d.damage_grade\n",
    "FROM building_structure as s \n",
    "JOIN building_damage AS d\n",
    "ON s.building_id = d.building_id\n",
    "WHERE s.district_id=24\n",
    "LIMIT 5"
   ]
  },
  {
   "cell_type": "markdown",
   "id": "6fe20895",
   "metadata": {},
   "source": [
    "## Import"
   ]
  },
  {
   "cell_type": "markdown",
   "id": "c3b298f8",
   "metadata": {},
   "source": [
    "**Task 4.5.5:** Write a `wrangle` function that will use the query you created in the previous task to create a DataFrame. In addition your function should:\n",
    "\n",
    "1. Create a `\"severe_damage\"` column, where all buildings with a damage grade greater than `3` should be encoded as `1`. All other buildings should be encoded at `0`. \n",
    "2. Drop any columns that could cause issues with leakage or multicollinearity in your model."
   ]
  },
  {
   "cell_type": "code",
   "execution_count": 9,
   "id": "a99b727c",
   "metadata": {},
   "outputs": [],
   "source": [
    "def wrangle(db_path):\n",
    "    # Connect to database\n",
    "    conn = sql.connect(db_path)\n",
    "\n",
    "    # Construct query\n",
    "    query = \"\"\"\n",
    "            SELECT s.* ,d.damage_grade\n",
    "            FROM building_structure as s \n",
    "            JOIN building_damage AS d\n",
    "            ON s.building_id = d.building_id\n",
    "            WHERE s.district_id=24\n",
    "            \"\"\"\n",
    "\n",
    "    # Read query results into DataFrame\n",
    "    df = pd.read_sql(query,conn,\"building_id\")\n",
    "    \n",
    "    # identify leaky columns\n",
    "    drop_cols = [col for col in df.columns if \"post_eq\" in col]\n",
    "    \n",
    "    # create binary target\n",
    "    df[\"damage_grade\"]= df[\"damage_grade\"].str[-1].astype(int)\n",
    "    df[\"severe_damage\"]=(df[\"damage_grade\"]>3).astype(int)\n",
    "    \n",
    "    # Drop unnecessary features \n",
    "    drop_cols.append(\"technical_solution_proposed\")\n",
    "    \n",
    "    # drop old target\n",
    "    drop_cols.append(\"damage_grade\")\n",
    "    \n",
    "    # drop multicollinearty columns\n",
    "    drop_cols.append(\"count_floors_pre_eq\")\n",
    "    \n",
    "    # drop haigh cardinality\n",
    "    drop_cols.extend([\"district_id\",\"vdcmun_id\",\"ward_id\"])\n",
    "    \n",
    "    # drop leaky columns \n",
    "    df.drop(columns=drop_cols , inplace=True)\n",
    "    \n",
    "    return df"
   ]
  },
  {
   "cell_type": "code",
   "execution_count": 10,
   "id": "4eb951aa",
   "metadata": {},
   "outputs": [
    {
     "data": {
      "text/html": [
       "<div>\n",
       "<style scoped>\n",
       "    .dataframe tbody tr th:only-of-type {\n",
       "        vertical-align: middle;\n",
       "    }\n",
       "\n",
       "    .dataframe tbody tr th {\n",
       "        vertical-align: top;\n",
       "    }\n",
       "\n",
       "    .dataframe thead th {\n",
       "        text-align: right;\n",
       "    }\n",
       "</style>\n",
       "<table border=\"1\" class=\"dataframe\">\n",
       "  <thead>\n",
       "    <tr style=\"text-align: right;\">\n",
       "      <th></th>\n",
       "      <th>age_building</th>\n",
       "      <th>plinth_area_sq_ft</th>\n",
       "      <th>height_ft_pre_eq</th>\n",
       "      <th>land_surface_condition</th>\n",
       "      <th>foundation_type</th>\n",
       "      <th>roof_type</th>\n",
       "      <th>ground_floor_type</th>\n",
       "      <th>other_floor_type</th>\n",
       "      <th>position</th>\n",
       "      <th>plan_configuration</th>\n",
       "      <th>...</th>\n",
       "      <th>has_superstructure_stone_flag</th>\n",
       "      <th>has_superstructure_cement_mortar_stone</th>\n",
       "      <th>has_superstructure_mud_mortar_brick</th>\n",
       "      <th>has_superstructure_cement_mortar_brick</th>\n",
       "      <th>has_superstructure_timber</th>\n",
       "      <th>has_superstructure_bamboo</th>\n",
       "      <th>has_superstructure_rc_non_engineered</th>\n",
       "      <th>has_superstructure_rc_engineered</th>\n",
       "      <th>has_superstructure_other</th>\n",
       "      <th>severe_damage</th>\n",
       "    </tr>\n",
       "    <tr>\n",
       "      <th>building_id</th>\n",
       "      <th></th>\n",
       "      <th></th>\n",
       "      <th></th>\n",
       "      <th></th>\n",
       "      <th></th>\n",
       "      <th></th>\n",
       "      <th></th>\n",
       "      <th></th>\n",
       "      <th></th>\n",
       "      <th></th>\n",
       "      <th></th>\n",
       "      <th></th>\n",
       "      <th></th>\n",
       "      <th></th>\n",
       "      <th></th>\n",
       "      <th></th>\n",
       "      <th></th>\n",
       "      <th></th>\n",
       "      <th></th>\n",
       "      <th></th>\n",
       "      <th></th>\n",
       "    </tr>\n",
       "  </thead>\n",
       "  <tbody>\n",
       "    <tr>\n",
       "      <th>240101000011</th>\n",
       "      <td>40</td>\n",
       "      <td>324</td>\n",
       "      <td>12</td>\n",
       "      <td>Flat</td>\n",
       "      <td>Mud mortar-Stone/Brick</td>\n",
       "      <td>Bamboo/Timber-Light roof</td>\n",
       "      <td>Mud</td>\n",
       "      <td>Not applicable</td>\n",
       "      <td>Not attached</td>\n",
       "      <td>Rectangular</td>\n",
       "      <td>...</td>\n",
       "      <td>0</td>\n",
       "      <td>0</td>\n",
       "      <td>0</td>\n",
       "      <td>0</td>\n",
       "      <td>0</td>\n",
       "      <td>0</td>\n",
       "      <td>0</td>\n",
       "      <td>0</td>\n",
       "      <td>0</td>\n",
       "      <td>0</td>\n",
       "    </tr>\n",
       "    <tr>\n",
       "      <th>240101000021</th>\n",
       "      <td>30</td>\n",
       "      <td>382</td>\n",
       "      <td>20</td>\n",
       "      <td>Flat</td>\n",
       "      <td>Mud mortar-Stone/Brick</td>\n",
       "      <td>Bamboo/Timber-Light roof</td>\n",
       "      <td>Mud</td>\n",
       "      <td>TImber/Bamboo-Mud</td>\n",
       "      <td>Attached-1 side</td>\n",
       "      <td>Rectangular</td>\n",
       "      <td>...</td>\n",
       "      <td>0</td>\n",
       "      <td>0</td>\n",
       "      <td>0</td>\n",
       "      <td>0</td>\n",
       "      <td>0</td>\n",
       "      <td>0</td>\n",
       "      <td>0</td>\n",
       "      <td>0</td>\n",
       "      <td>0</td>\n",
       "      <td>1</td>\n",
       "    </tr>\n",
       "    <tr>\n",
       "      <th>240101000031</th>\n",
       "      <td>13</td>\n",
       "      <td>405</td>\n",
       "      <td>10</td>\n",
       "      <td>Flat</td>\n",
       "      <td>Mud mortar-Stone/Brick</td>\n",
       "      <td>Bamboo/Timber-Light roof</td>\n",
       "      <td>Mud</td>\n",
       "      <td>Not applicable</td>\n",
       "      <td>Not attached</td>\n",
       "      <td>Rectangular</td>\n",
       "      <td>...</td>\n",
       "      <td>0</td>\n",
       "      <td>0</td>\n",
       "      <td>0</td>\n",
       "      <td>0</td>\n",
       "      <td>0</td>\n",
       "      <td>0</td>\n",
       "      <td>0</td>\n",
       "      <td>0</td>\n",
       "      <td>0</td>\n",
       "      <td>1</td>\n",
       "    </tr>\n",
       "    <tr>\n",
       "      <th>240101000041</th>\n",
       "      <td>25</td>\n",
       "      <td>328</td>\n",
       "      <td>18</td>\n",
       "      <td>Flat</td>\n",
       "      <td>Mud mortar-Stone/Brick</td>\n",
       "      <td>Bamboo/Timber-Heavy roof</td>\n",
       "      <td>Mud</td>\n",
       "      <td>Timber-Planck</td>\n",
       "      <td>Not attached</td>\n",
       "      <td>Rectangular</td>\n",
       "      <td>...</td>\n",
       "      <td>0</td>\n",
       "      <td>0</td>\n",
       "      <td>0</td>\n",
       "      <td>0</td>\n",
       "      <td>0</td>\n",
       "      <td>0</td>\n",
       "      <td>0</td>\n",
       "      <td>0</td>\n",
       "      <td>0</td>\n",
       "      <td>1</td>\n",
       "    </tr>\n",
       "    <tr>\n",
       "      <th>240101000051</th>\n",
       "      <td>15</td>\n",
       "      <td>405</td>\n",
       "      <td>20</td>\n",
       "      <td>Flat</td>\n",
       "      <td>Mud mortar-Stone/Brick</td>\n",
       "      <td>Bamboo/Timber-Light roof</td>\n",
       "      <td>Mud</td>\n",
       "      <td>TImber/Bamboo-Mud</td>\n",
       "      <td>Not attached</td>\n",
       "      <td>Rectangular</td>\n",
       "      <td>...</td>\n",
       "      <td>0</td>\n",
       "      <td>0</td>\n",
       "      <td>0</td>\n",
       "      <td>0</td>\n",
       "      <td>0</td>\n",
       "      <td>0</td>\n",
       "      <td>0</td>\n",
       "      <td>0</td>\n",
       "      <td>0</td>\n",
       "      <td>1</td>\n",
       "    </tr>\n",
       "  </tbody>\n",
       "</table>\n",
       "<p>5 rows × 22 columns</p>\n",
       "</div>"
      ],
      "text/plain": [
       "              age_building  plinth_area_sq_ft  height_ft_pre_eq  \\\n",
       "building_id                                                       \n",
       "240101000011            40                324                12   \n",
       "240101000021            30                382                20   \n",
       "240101000031            13                405                10   \n",
       "240101000041            25                328                18   \n",
       "240101000051            15                405                20   \n",
       "\n",
       "             land_surface_condition         foundation_type  \\\n",
       "building_id                                                   \n",
       "240101000011                   Flat  Mud mortar-Stone/Brick   \n",
       "240101000021                   Flat  Mud mortar-Stone/Brick   \n",
       "240101000031                   Flat  Mud mortar-Stone/Brick   \n",
       "240101000041                   Flat  Mud mortar-Stone/Brick   \n",
       "240101000051                   Flat  Mud mortar-Stone/Brick   \n",
       "\n",
       "                             roof_type ground_floor_type   other_floor_type  \\\n",
       "building_id                                                                   \n",
       "240101000011  Bamboo/Timber-Light roof               Mud     Not applicable   \n",
       "240101000021  Bamboo/Timber-Light roof               Mud  TImber/Bamboo-Mud   \n",
       "240101000031  Bamboo/Timber-Light roof               Mud     Not applicable   \n",
       "240101000041  Bamboo/Timber-Heavy roof               Mud      Timber-Planck   \n",
       "240101000051  Bamboo/Timber-Light roof               Mud  TImber/Bamboo-Mud   \n",
       "\n",
       "                     position plan_configuration  ...  \\\n",
       "building_id                                       ...   \n",
       "240101000011     Not attached        Rectangular  ...   \n",
       "240101000021  Attached-1 side        Rectangular  ...   \n",
       "240101000031     Not attached        Rectangular  ...   \n",
       "240101000041     Not attached        Rectangular  ...   \n",
       "240101000051     Not attached        Rectangular  ...   \n",
       "\n",
       "              has_superstructure_stone_flag  \\\n",
       "building_id                                   \n",
       "240101000011                              0   \n",
       "240101000021                              0   \n",
       "240101000031                              0   \n",
       "240101000041                              0   \n",
       "240101000051                              0   \n",
       "\n",
       "              has_superstructure_cement_mortar_stone  \\\n",
       "building_id                                            \n",
       "240101000011                                       0   \n",
       "240101000021                                       0   \n",
       "240101000031                                       0   \n",
       "240101000041                                       0   \n",
       "240101000051                                       0   \n",
       "\n",
       "              has_superstructure_mud_mortar_brick  \\\n",
       "building_id                                         \n",
       "240101000011                                    0   \n",
       "240101000021                                    0   \n",
       "240101000031                                    0   \n",
       "240101000041                                    0   \n",
       "240101000051                                    0   \n",
       "\n",
       "              has_superstructure_cement_mortar_brick  \\\n",
       "building_id                                            \n",
       "240101000011                                       0   \n",
       "240101000021                                       0   \n",
       "240101000031                                       0   \n",
       "240101000041                                       0   \n",
       "240101000051                                       0   \n",
       "\n",
       "              has_superstructure_timber  has_superstructure_bamboo  \\\n",
       "building_id                                                          \n",
       "240101000011                          0                          0   \n",
       "240101000021                          0                          0   \n",
       "240101000031                          0                          0   \n",
       "240101000041                          0                          0   \n",
       "240101000051                          0                          0   \n",
       "\n",
       "              has_superstructure_rc_non_engineered  \\\n",
       "building_id                                          \n",
       "240101000011                                     0   \n",
       "240101000021                                     0   \n",
       "240101000031                                     0   \n",
       "240101000041                                     0   \n",
       "240101000051                                     0   \n",
       "\n",
       "              has_superstructure_rc_engineered  has_superstructure_other  \\\n",
       "building_id                                                                \n",
       "240101000011                                 0                         0   \n",
       "240101000021                                 0                         0   \n",
       "240101000031                                 0                         0   \n",
       "240101000041                                 0                         0   \n",
       "240101000051                                 0                         0   \n",
       "\n",
       "              severe_damage  \n",
       "building_id                  \n",
       "240101000011              0  \n",
       "240101000021              1  \n",
       "240101000031              1  \n",
       "240101000041              1  \n",
       "240101000051              1  \n",
       "\n",
       "[5 rows x 22 columns]"
      ]
     },
     "execution_count": 10,
     "metadata": {},
     "output_type": "execute_result"
    }
   ],
   "source": [
    "df = wrangle(\"data/nepal.db\")\n",
    "df.head()"
   ]
  },
  {
   "cell_type": "markdown",
   "id": "8f455100",
   "metadata": {},
   "source": [
    "## Explore"
   ]
  },
  {
   "cell_type": "markdown",
   "id": "c773bc8e",
   "metadata": {},
   "source": [
    "**Task 4.5.6:** Are the classes in this dataset balanced? Create a bar chart with the normalized value counts from the `\"severe_damage\"` column. Be sure to label the x-axis `\"Severe Damage\"` and the y-axis `\"Relative Frequency\"`. Use the title `\"Kavrepalanchok, Class Balance\"`."
   ]
  },
  {
   "cell_type": "code",
   "execution_count": 11,
   "id": "6d2c7d23",
   "metadata": {},
   "outputs": [
    {
     "data": {
      "text/plain": [
       "<AxesSubplot:title={'center':'class balance'}, xlabel='class', ylabel='frequency'>"
      ]
     },
     "execution_count": 11,
     "metadata": {},
     "output_type": "execute_result"
    },
    {
     "data": {
      "image/png": "[encoded data removed]",
      "text/plain": [
       "<Figure size 432x288 with 1 Axes>"
      ]
     },
     "metadata": {
      "needs_background": "light"
     },
     "output_type": "display_data"
    }
   ],
   "source": [
    "# Plot value counts of `\"severe_damage\"`\n",
    "df[\"severe_damage\"].value_counts(normalize=True).plot(\n",
    "    kind=\"bar\",xlabel=\"class\",ylabel=\"frequency\",title=\"class balance\"\n",
    ")"
   ]
  },
  {
   "cell_type": "markdown",
   "id": "064433f5",
   "metadata": {},
   "source": [
    "**Task 4.5.7:** Is there a relationship between the footprint size of a building and the damage it sustained in the earthquake? Use seaborn to create a boxplot that shows the distributions of the `\"plinth_area_sq_ft\"` column for both groups in the `\"severe_damage\"` column. Label your x-axis `\"Severe Damage\"` and y-axis `\"Plinth Area [sq. ft.]\"`. Use the title `\"Kavrepalanchok, Plinth Area vs Building Damage\"`. "
   ]
  },
  {
   "cell_type": "code",
   "execution_count": 12,
   "id": "090dbe4d",
   "metadata": {},
   "outputs": [
    {
     "data": {
      "image/png": "[encoded data removed]",
      "text/plain": [
       "<Figure size 432x288 with 1 Axes>"
      ]
     },
     "metadata": {
      "needs_background": "light"
     },
     "output_type": "display_data"
    }
   ],
   "source": [
    "sns.boxplot(x=\"severe_damage\",y=\"plinth_area_sq_ft\",data=df)\n",
    "# Label axes\n",
    "plt.xlabel(\"severe_damage\")\n",
    "plt.ylabel(\"Plinth Area [sq. ft.]\")\n",
    "plt.title(\"Kavrepalanchok, Plinth Area vs Building Damage\");"
   ]
  },
  {
   "cell_type": "markdown",
   "id": "02046415",
   "metadata": {},
   "source": [
    "**Task 4.5.8:** Are buildings with certain roof types more likely to suffer severe damage? Create a pivot table of `df` where the index is `\"roof_type\"` and the values come from the `\"severe_damage\"` column, aggregated by the mean."
   ]
  },
  {
   "cell_type": "code",
   "execution_count": 13,
   "id": "a22e03eb",
   "metadata": {},
   "outputs": [
    {
     "data": {
      "text/html": [
       "<div>\n",
       "<style scoped>\n",
       "    .dataframe tbody tr th:only-of-type {\n",
       "        vertical-align: middle;\n",
       "    }\n",
       "\n",
       "    .dataframe tbody tr th {\n",
       "        vertical-align: top;\n",
       "    }\n",
       "\n",
       "    .dataframe thead th {\n",
       "        text-align: right;\n",
       "    }\n",
       "</style>\n",
       "<table border=\"1\" class=\"dataframe\">\n",
       "  <thead>\n",
       "    <tr style=\"text-align: right;\">\n",
       "      <th></th>\n",
       "      <th>severe_damage</th>\n",
       "    </tr>\n",
       "    <tr>\n",
       "      <th>roof_type</th>\n",
       "      <th></th>\n",
       "    </tr>\n",
       "  </thead>\n",
       "  <tbody>\n",
       "    <tr>\n",
       "      <th>RCC/RB/RBC</th>\n",
       "      <td>0.037574</td>\n",
       "    </tr>\n",
       "    <tr>\n",
       "      <th>Bamboo/Timber-Heavy roof</th>\n",
       "      <td>0.570629</td>\n",
       "    </tr>\n",
       "    <tr>\n",
       "      <th>Bamboo/Timber-Light roof</th>\n",
       "      <td>0.601164</td>\n",
       "    </tr>\n",
       "  </tbody>\n",
       "</table>\n",
       "</div>"
      ],
      "text/plain": [
       "                          severe_damage\n",
       "roof_type                              \n",
       "RCC/RB/RBC                     0.037574\n",
       "Bamboo/Timber-Heavy roof       0.570629\n",
       "Bamboo/Timber-Light roof       0.601164"
      ]
     },
     "execution_count": 13,
     "metadata": {},
     "output_type": "execute_result"
    }
   ],
   "source": [
    "roof_pivot = pd.pivot_table(\n",
    "    df,index=\"roof_type\",values=\"severe_damage\",aggfunc=np.mean\n",
    ").sort_values(by=\"severe_damage\")\n",
    "roof_pivot"
   ]
  },
  {
   "cell_type": "markdown",
   "id": "4181ab3a",
   "metadata": {},
   "source": [
    "## Split"
   ]
  },
  {
   "cell_type": "markdown",
   "id": "c6906b6f",
   "metadata": {},
   "source": [
    "**Task 4.5.9:** Create your feature matrix `X` and target vector `y`. Your target is `\"severe_damage\"`. "
   ]
  },
  {
   "cell_type": "code",
   "execution_count": 14,
   "id": "b3e23535",
   "metadata": {},
   "outputs": [
    {
     "name": "stdout",
     "output_type": "stream",
     "text": [
      "X shape: (98019, 21)\n",
      "y shape: (98019,)\n"
     ]
    }
   ],
   "source": [
    "target = \"severe_damage\"\n",
    "X = df.drop(columns=target)\n",
    "y = df[target]\n",
    "print(\"X shape:\", X.shape)\n",
    "print(\"y shape:\", y.shape)"
   ]
  },
  {
   "cell_type": "markdown",
   "id": "a9f47525",
   "metadata": {},
   "source": [
    "**Task 4.5.10:** Divide your data (`X` and `y`) into training and test sets using a randomized train-test split. Your test set should be 20% of your total data. And don't forget to set a `random_state` for reproducibility. \n"
   ]
  },
  {
   "cell_type": "code",
   "execution_count": 15,
   "id": "f22297c5",
   "metadata": {},
   "outputs": [],
   "source": [
    "X_train, X_test, y_train, y_test = train_test_split(\n",
    "    X,y,test_size=0.2 , random_state=42\n",
    ")"
   ]
  },
  {
   "cell_type": "markdown",
   "id": "0f0dd2bb",
   "metadata": {},
   "source": [
    "**Task 4.5.10:** Divide your dataset into training and validation sets using a randomized split. Your validation set should be 20% of your data."
   ]
  },
  {
   "cell_type": "code",
   "execution_count": 16,
   "id": "1ecd2bc4",
   "metadata": {},
   "outputs": [
    {
     "name": "stdout",
     "output_type": "stream",
     "text": [
      "X_train shape: (78415, 21)\n",
      "y_train shape: (78415,)\n",
      "X_val shape: (19604, 21)\n",
      "y_val shape: (19604,)\n"
     ]
    }
   ],
   "source": [
    "X_train, X_val, y_train, y_val = train_test_split(X,y , test_size=0.2 , random_state=42)\n",
    "print(\"X_train shape:\", X_train.shape)\n",
    "print(\"y_train shape:\", y_train.shape)\n",
    "print(\"X_val shape:\", X_val.shape)\n",
    "print(\"y_val shape:\", y_val.shape)"
   ]
  },
  {
   "cell_type": "markdown",
   "id": "d184b32e",
   "metadata": {},
   "source": [
    "# Build Model"
   ]
  },
  {
   "cell_type": "markdown",
   "id": "c7057676",
   "metadata": {},
   "source": [
    "## Baseline"
   ]
  },
  {
   "cell_type": "markdown",
   "id": "7fbb715b",
   "metadata": {},
   "source": [
    "**Task 4.5.11:** Calculate the baseline accuracy score for your model."
   ]
  },
  {
   "cell_type": "code",
   "execution_count": 17,
   "id": "ed920ea3",
   "metadata": {},
   "outputs": [
    {
     "name": "stdout",
     "output_type": "stream",
     "text": [
      "Baseline Accuracy: 0.54\n"
     ]
    }
   ],
   "source": [
    "acc_baseline = y_train.value_counts(normalize=True).max()\n",
    "print(\"Baseline Accuracy:\", round(acc_baseline, 2))"
   ]
  },
  {
   "cell_type": "markdown",
   "id": "e872551f",
   "metadata": {},
   "source": [
    "## Iterate"
   ]
  },
  {
   "cell_type": "markdown",
   "id": "5b216e74",
   "metadata": {},
   "source": [
    "**Task 4.5.12:** Create a model `model_lr` that uses logistic regression to predict building damage. Be sure to include an appropriate encoder for categorical features. "
   ]
  },
  {
   "cell_type": "code",
   "execution_count": 23,
   "id": "925c13ea",
   "metadata": {},
   "outputs": [
    {
     "data": {
      "text/plain": [
       "Pipeline(steps=[('onehotencoder',\n",
       "                 OneHotEncoder(cols=['land_surface_condition',\n",
       "                                     'foundation_type', 'roof_type',\n",
       "                                     'ground_floor_type', 'other_floor_type',\n",
       "                                     'position', 'plan_configuration'],\n",
       "                               use_cat_names=True)),\n",
       "                ('logisticregression', LogisticRegression(max_iter=1000))])"
      ]
     },
     "execution_count": 23,
     "metadata": {},
     "output_type": "execute_result"
    }
   ],
   "source": [
    "model_lr = make_pipeline(\n",
    "    OneHotEncoder(use_cat_names=True),\n",
    "    LogisticRegression(max_iter=1000)\n",
    ")\n",
    "# Fit model to training data\n",
    "model_lr.fit(X_train,y_train)\n"
   ]
  },
  {
   "cell_type": "markdown",
   "id": "3cd3ad68",
   "metadata": {},
   "source": [
    "**Task 4.5.13:** Calculate training and validation accuracy score for `model_lr`. "
   ]
  },
  {
   "cell_type": "code",
   "execution_count": 19,
   "id": "6fafdc4f",
   "metadata": {},
   "outputs": [
    {
     "name": "stdout",
     "output_type": "stream",
     "text": [
      "Logistic Regression, Training Accuracy Score: 0.6594274054708921\n",
      "Logistic Regression, Validation Accuracy Score: 0.6598143236074271\n"
     ]
    }
   ],
   "source": [
    "lr_train_acc = accuracy_score(y_train,model_lr.predict(X_train))\n",
    "lr_val_acc = model_lr.score(X_val,y_val)\n",
    "\n",
    "print(\"Logistic Regression, Training Accuracy Score:\", lr_train_acc)\n",
    "print(\"Logistic Regression, Validation Accuracy Score:\", lr_val_acc)"
   ]
  },
  {
   "cell_type": "markdown",
   "id": "a357c3d3",
   "metadata": {},
   "source": [
    "**Task 4.5.14:** Perhaps a decision tree model will perform better than logistic regression, but what's the best hyperparameter value for `max_depth`? Create a `for` loop to train and evaluate the model `model_dt` at all depths from 1 to 15. Be sure to use an appropriate encoder for your model, and to record its training and validation accuracy scores at every depth. The grader will evaluate your validation accuracy scores only."
   ]
  },
  {
   "cell_type": "code",
   "execution_count": 20,
   "id": "d3d3eeb8",
   "metadata": {},
   "outputs": [
    {
     "name": "stdout",
     "output_type": "stream",
     "text": [
      "Training Accuracy Scores: [0.6330676528725372, 0.6349933048523879, 0.6497991455716381]\n",
      "Validation Accuracy Scores: [0.6348704346051827, 0.6339012446439503, 0.6521118139155274]\n"
     ]
    }
   ],
   "source": [
    "depth_hyperparams = range(1, 20)\n",
    "training_acc = []\n",
    "validation_acc = []\n",
    "for d in depth_hyperparams:\n",
    "    model_dt = make_pipeline(\n",
    "        OrdinalEncoder(),\n",
    "        DecisionTreeClassifier(max_depth=d, random_state=42)\n",
    "    )\n",
    "    model_dt.fit(X_train, y_train)\n",
    "    # Calculate training accuracy score and append to `training_acc`\n",
    "    training_acc.append(model_dt.score(X_train,y_train))\n",
    "    # Calculate validation accuracy score and append to `training_acc`\n",
    "    validation_acc.append(model_dt.score(X_val,y_val))\n",
    "\n",
    "print(\"Training Accuracy Scores:\", training_acc[:3])\n",
    "print(\"Validation Accuracy Scores:\", validation_acc[:3])\n"
   ]
  },
  {
   "cell_type": "markdown",
   "id": "00f46b24",
   "metadata": {},
   "source": [
    "**Task 4.5.15:** Using the values in `training_acc` and `validation_acc`, plot the validation curve for `model_dt`. Label your x-axis `\"Max Depth\"` and your y-axis `\"Accuracy Score\"`. Use the title `\"Validation Curve, Decision Tree Model\"`, and include a legend. "
   ]
  },
  {
   "cell_type": "code",
   "execution_count": 21,
   "id": "7c22a6c8",
   "metadata": {},
   "outputs": [
    {
     "data": {
      "image/png": "[encoded data removed]",
      "text/plain": [
       "<Figure size 432x288 with 1 Axes>"
      ]
     },
     "metadata": {
      "needs_background": "light"
     },
     "output_type": "display_data"
    }
   ],
   "source": [
    "plt.plot(depth_hyperparams,training_acc,label=\"training\")\n",
    "plt.plot(depth_hyperparams,validation_acc,label=\"validation\")\n",
    "plt.xlabel(\"Max Depth\")\n",
    "plt.ylabel(\"Accuracy Score\")\n",
    "plt.legend();"
   ]
  },
  {
   "cell_type": "markdown",
   "id": "308bed55",
   "metadata": {},
   "source": [
    "**Task 4.5.16:** Build and train a new decision tree model `final_model_dt`, using the value for `max_depth` that yielded the best validation accuracy score in your plot above. "
   ]
  },
  {
   "cell_type": "code",
   "execution_count": 22,
   "id": "366a97ec",
   "metadata": {},
   "outputs": [
    {
     "data": {
      "text/plain": [
       "Pipeline(steps=[('ordinalencoder',\n",
       "                 OrdinalEncoder(cols=['land_surface_condition',\n",
       "                                      'foundation_type', 'roof_type',\n",
       "                                      'ground_floor_type', 'other_floor_type',\n",
       "                                      'position', 'plan_configuration'],\n",
       "                                mapping=[{'col': 'land_surface_condition',\n",
       "                                          'data_type': dtype('O'),\n",
       "                                          'mapping': Flat              1\n",
       "Moderate slope    2\n",
       "Steep slope       3\n",
       "NaN              -2\n",
       "dtype: int64},\n",
       "                                         {'col': 'foundation_type',\n",
       "                                          'data_type': dtype('O'...\n",
       "                                          'mapping': Not attached       1\n",
       "Attached-1 side    2\n",
       "Attached-2 side    3\n",
       "Attached-3 side    4\n",
       "NaN               -2\n",
       "dtype: int64},\n",
       "                                         {'col': 'plan_configuration',\n",
       "                                          'data_type': dtype('O'),\n",
       "                                          'mapping': Rectangular                         1\n",
       "Square                              2\n",
       "L-shape                             3\n",
       "T-shape                             4\n",
       "Others                              5\n",
       "Multi-projected                     6\n",
       "U-shape                             7\n",
       "H-shape                             8\n",
       "E-shape                             9\n",
       "Building with Central Courtyard    10\n",
       "NaN                                -2\n",
       "dtype: int64}])),\n",
       "                ('decisiontreeclassifier',\n",
       "                 DecisionTreeClassifier(max_depth=13, random_state=42))])"
      ]
     },
     "execution_count": 22,
     "metadata": {},
     "output_type": "execute_result"
    }
   ],
   "source": [
    "final_model_dt = make_pipeline(\n",
    "        OrdinalEncoder(),\n",
    "        DecisionTreeClassifier(max_depth=13, random_state=42)\n",
    "    )\n",
    "# Fit model to training data\n",
    "final_model_dt.fit(X_train,y_train)\n"
   ]
  },
  {
   "cell_type": "markdown",
   "id": "2aa3321e",
   "metadata": {},
   "source": [
    "## Evaluate"
   ]
  },
  {
   "cell_type": "code",
   "execution_count": 25,
   "id": "aa832140",
   "metadata": {},
   "outputs": [
    {
     "name": "stdout",
     "output_type": "stream",
     "text": [
      "Test Accuracy: 0.68\n"
     ]
    }
   ],
   "source": [
    "test_acc = final_model_dt.score(X_test,y_test)\n",
    "print(\"Test Accuracy:\", round(test_acc, 2))"
   ]
  },
  {
   "cell_type": "code",
   "execution_count": 26,
   "id": "15afc622",
   "metadata": {},
   "outputs": [
    {
     "data": {
      "text/plain": [
       "array([1, 1, 1, 1, 1])"
      ]
     },
     "execution_count": 26,
     "metadata": {},
     "output_type": "execute_result"
    }
   ],
   "source": [
    "y_test_pred = final_model_dt.predict(X_test)\n",
    "y_test_pred[:5]"
   ]
  },
  {
   "cell_type": "markdown",
   "id": "f49e77da",
   "metadata": {},
   "source": [
    "# Communicate Results"
   ]
  },
  {
   "cell_type": "code",
   "execution_count": 28,
   "id": "2515a26f",
   "metadata": {},
   "outputs": [
    {
     "name": "stdout",
     "output_type": "stream",
     "text": [
      "Features: Index(['age_building', 'plinth_area_sq_ft', 'height_ft_pre_eq'], dtype='object')\n",
      "Importances: [0.13031693 0.11738609 0.09965724]\n"
     ]
    }
   ],
   "source": [
    "features = X_train.columns\n",
    "importances = final_model_dt.named_steps[\"decisiontreeclassifier\"].feature_importances_\n",
    "\n",
    "print(\"Features:\", features[:3])\n",
    "print(\"Importances:\", importances[:3])"
   ]
  },
  {
   "cell_type": "markdown",
   "id": "cdb018c8",
   "metadata": {},
   "source": [
    "**Task 4.5.18:** What are the most important features for `final_model_dt`? Create a Series Gini `feat_imp`, where the index labels are the feature names for your dataset and the values are the feature importances for your model. Be sure that the Series is sorted from smallest to largest feature importance. "
   ]
  },
  {
   "cell_type": "code",
   "execution_count": 38,
   "id": "f4262ea2",
   "metadata": {},
   "outputs": [
    {
     "data": {
      "text/plain": [
       "has_superstructure_rc_engineered          0.000518\n",
       "has_superstructure_rc_non_engineered      0.000730\n",
       "has_superstructure_other                  0.001143\n",
       "has_superstructure_cement_mortar_stone    0.001835\n",
       "has_superstructure_stone_flag             0.002200\n",
       "dtype: float64"
      ]
     },
     "execution_count": 38,
     "metadata": {},
     "output_type": "execute_result"
    }
   ],
   "source": [
    "feat_imp = pd.Series(importances,index=features).sort_values()\n",
    "feat_imp.head()"
   ]
  },
  {
   "cell_type": "markdown",
   "id": "292fa515",
   "metadata": {},
   "source": [
    "**Task 4.5.19:** Create a horizontal bar chart of `feat_imp`. Label your x-axis `\"Gini Importance\"` and your y-axis `\"Label\"`. Use the title `\"Kavrepalanchok Decision Tree, Feature Importance\"`.\n",
    "\n",
    "Do you see any relationship between this plot and the exploratory data analysis you did regarding roof type?"
   ]
  },
  {
   "cell_type": "code",
   "execution_count": 36,
   "id": "2f2812d0",
   "metadata": {},
   "outputs": [
    {
     "data": {
      "text/plain": [
       "Text(0.5, 1.0, 'Kavrepalanchok Decision Tree, Feature Importance')"
      ]
     },
     "execution_count": 36,
     "metadata": {},
     "output_type": "execute_result"
    },
    {
     "data": {
      "image/png": "[encoded data removed]",
      "text/plain": [
       "<Figure size 432x288 with 1 Axes>"
      ]
     },
     "metadata": {
      "needs_background": "light"
     },
     "output_type": "display_data"
    }
   ],
   "source": [
    "# Create horizontal bar chart\n",
    "feat_imp.plot(kind=\"barh\")\n",
    "plt.xlabel(\"Gini Importance\")\n",
    "plt.ylabel(\"Label\")\n",
    "plt.title(\"Kavrepalanchok Decision Tree, Feature Importance\")"
   ]
  },
  {
   "cell_type": "code",
   "execution_count": null,
   "id": "19526fa5",
   "metadata": {},
   "outputs": [],
   "source": []
  }
 ],
 "metadata": {
  "kernelspec": {
   "display_name": "Python 3 (ipykernel)",
   "language": "python",
   "name": "python3"
  },
  "language_info": {
   "codemirror_mode": {
    "name": "ipython",
    "version": 3
   },
   "file_extension": ".py",
   "mimetype": "text/x-python",
   "name": "python",
   "nbconvert_exporter": "python",
   "pygments_lexer": "ipython3",
   "version": "3.9.12"
  }
 },
 "nbformat": 4,
 "nbformat_minor": 5
}
